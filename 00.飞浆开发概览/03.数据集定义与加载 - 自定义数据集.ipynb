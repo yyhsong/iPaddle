{
 "cells": [
  {
   "cell_type": "markdown",
   "id": "bfb0ad88",
   "metadata": {},
   "source": [
    "## 自定义数据集"
   ]
  },
  {
   "cell_type": "code",
   "execution_count": 4,
   "id": "a0e9342d",
   "metadata": {},
   "outputs": [],
   "source": [
    "import paddle\n",
    "from paddle.io import Dataset\n",
    "from paddle.vision.transforms import Normalize\n",
    "\n",
    "import numpy as np\n",
    "import cv2\n",
    "import os\n",
    "\n",
    "# 继承paddle.io.Dataset类\n",
    "class MyDataset(paddle.io.Dataset):\n",
    "    def __init__(self, data_dir, label_path, transform=None):\n",
    "        super(MyDataset, self).__init__()\n",
    "        \n",
    "        self.data_list = []\n",
    "        with open(label_path, encoding='utf-8') as f:\n",
    "            for line in f.readlines():\n",
    "                image_path, label = line.strip().split('\\t')\n",
    "                image_path = os.path.join(data_dir, image_path)\n",
    "                self.data_list.append([image_path, label])\n",
    "        \n",
    "        self.transform = transform\n",
    "    \n",
    "    def __getitem__(self, index):\n",
    "        # 根据索引，从列表中取出一张图像\n",
    "        image_path, label = self.data_list[index]\n",
    "        \n",
    "        # 读取灰度图\n",
    "        image = cv2.imread(image_path, cv2.IMREAD_GRAYSCALE)\n",
    "        \n",
    "        # 将图像数据格式转换为float32（飞浆训练默认格式）\n",
    "        image = image.astype('float32')\n",
    "        \n",
    "        # 应用图像转换方法\n",
    "        if self.transform is not None:\n",
    "            image = self.transform(image)\n",
    "            \n",
    "        # 将label格式转换为int\n",
    "        label = int(label)\n",
    "        \n",
    "        # 返回指定索引的单条数据（图像数据，对应的标签）\n",
    "        return image, label\n",
    "    \n",
    "    def __len__(self):\n",
    "        # 返回数据集的样本总数\n",
    "        return len(self.data_list)"
   ]
  },
  {
   "cell_type": "code",
   "execution_count": 5,
   "id": "2700b194",
   "metadata": {},
   "outputs": [
    {
     "name": "stdout",
     "output_type": "stream",
     "text": [
      "自定义训练数据集长度：60000，自定义测试数据集长度：10000\n"
     ]
    }
   ],
   "source": [
    "transform = Normalize(mean=[127.5], std=[127.5], data_format='CHW')\n",
    "\n",
    "custom_train_dataset = MyDataset('../datasets/mnist/train', '../datasets/mnist/train/label.txt', transform)\n",
    "custom_test_dataset = MyDataset('../datasets/mnist/val', '../datasets/mnist/val/label.txt', transform)\n",
    "\n",
    "print('自定义训练数据集长度：{}，自定义测试数据集长度：{}'.format(len(custom_train_dataset), len(custom_test_dataset)))"
   ]
  },
  {
   "cell_type": "code",
   "execution_count": 6,
   "id": "df94374a",
   "metadata": {},
   "outputs": [
    {
     "data": {
      "text/plain": [
       "(1, 28, 28)"
      ]
     },
     "execution_count": 6,
     "metadata": {},
     "output_type": "execute_result"
    }
   ],
   "source": [
    "image1, label1 = custom_train_dataset[1]\n",
    "\n",
    "image1.shape"
   ]
  },
  {
   "cell_type": "code",
   "execution_count": 7,
   "id": "8a1a43bd",
   "metadata": {},
   "outputs": [
    {
     "data": {
      "text/plain": [
       "<matplotlib.image.AxesImage at 0x1c6f8bdcf90>"
      ]
     },
     "execution_count": 7,
     "metadata": {},
     "output_type": "execute_result"
    },
    {
     "data": {
      "image/png": "[encoded data removed]",
      "text/plain": [
       "<Figure size 640x480 with 1 Axes>"
      ]
     },
     "metadata": {},
     "output_type": "display_data"
    }
   ],
   "source": [
    "import matplotlib.pyplot as plt\n",
    "\n",
    "plt.imshow(image1[0])"
   ]
  },
  {
   "cell_type": "markdown",
   "id": "81a609ce",
   "metadata": {},
   "source": [
    "## 迭代读取数据集"
   ]
  },
  {
   "cell_type": "code",
   "execution_count": 8,
   "id": "d0dce603",
   "metadata": {},
   "outputs": [
    {
     "name": "stdout",
     "output_type": "stream",
     "text": [
      "batch: 0, image shape: [1000, 1, 28, 28], label shape: [1000]\n",
      "batch: 1, image shape: [1000, 1, 28, 28], label shape: [1000]\n",
      "batch: 2, image shape: [1000, 1, 28, 28], label shape: [1000]\n",
      "batch: 3, image shape: [1000, 1, 28, 28], label shape: [1000]\n",
      "batch: 4, image shape: [1000, 1, 28, 28], label shape: [1000]\n",
      "batch: 5, image shape: [1000, 1, 28, 28], label shape: [1000]\n",
      "batch: 6, image shape: [1000, 1, 28, 28], label shape: [1000]\n",
      "batch: 7, image shape: [1000, 1, 28, 28], label shape: [1000]\n",
      "batch: 8, image shape: [1000, 1, 28, 28], label shape: [1000]\n",
      "batch: 9, image shape: [1000, 1, 28, 28], label shape: [1000]\n",
      "batch: 10, image shape: [1000, 1, 28, 28], label shape: [1000]\n",
      "batch: 11, image shape: [1000, 1, 28, 28], label shape: [1000]\n",
      "batch: 12, image shape: [1000, 1, 28, 28], label shape: [1000]\n",
      "batch: 13, image shape: [1000, 1, 28, 28], label shape: [1000]\n",
      "batch: 14, image shape: [1000, 1, 28, 28], label shape: [1000]\n",
      "batch: 15, image shape: [1000, 1, 28, 28], label shape: [1000]\n",
      "batch: 16, image shape: [1000, 1, 28, 28], label shape: [1000]\n",
      "batch: 17, image shape: [1000, 1, 28, 28], label shape: [1000]\n",
      "batch: 18, image shape: [1000, 1, 28, 28], label shape: [1000]\n",
      "batch: 19, image shape: [1000, 1, 28, 28], label shape: [1000]\n",
      "batch: 20, image shape: [1000, 1, 28, 28], label shape: [1000]\n",
      "batch: 21, image shape: [1000, 1, 28, 28], label shape: [1000]\n",
      "batch: 22, image shape: [1000, 1, 28, 28], label shape: [1000]\n",
      "batch: 23, image shape: [1000, 1, 28, 28], label shape: [1000]\n",
      "batch: 24, image shape: [1000, 1, 28, 28], label shape: [1000]\n",
      "batch: 25, image shape: [1000, 1, 28, 28], label shape: [1000]\n",
      "batch: 26, image shape: [1000, 1, 28, 28], label shape: [1000]\n",
      "batch: 27, image shape: [1000, 1, 28, 28], label shape: [1000]\n",
      "batch: 28, image shape: [1000, 1, 28, 28], label shape: [1000]\n",
      "batch: 29, image shape: [1000, 1, 28, 28], label shape: [1000]\n",
      "batch: 30, image shape: [1000, 1, 28, 28], label shape: [1000]\n",
      "batch: 31, image shape: [1000, 1, 28, 28], label shape: [1000]\n",
      "batch: 32, image shape: [1000, 1, 28, 28], label shape: [1000]\n",
      "batch: 33, image shape: [1000, 1, 28, 28], label shape: [1000]\n",
      "batch: 34, image shape: [1000, 1, 28, 28], label shape: [1000]\n",
      "batch: 35, image shape: [1000, 1, 28, 28], label shape: [1000]\n",
      "batch: 36, image shape: [1000, 1, 28, 28], label shape: [1000]\n",
      "batch: 37, image shape: [1000, 1, 28, 28], label shape: [1000]\n",
      "batch: 38, image shape: [1000, 1, 28, 28], label shape: [1000]\n",
      "batch: 39, image shape: [1000, 1, 28, 28], label shape: [1000]\n",
      "batch: 40, image shape: [1000, 1, 28, 28], label shape: [1000]\n",
      "batch: 41, image shape: [1000, 1, 28, 28], label shape: [1000]\n",
      "batch: 42, image shape: [1000, 1, 28, 28], label shape: [1000]\n",
      "batch: 43, image shape: [1000, 1, 28, 28], label shape: [1000]\n",
      "batch: 44, image shape: [1000, 1, 28, 28], label shape: [1000]\n",
      "batch: 45, image shape: [1000, 1, 28, 28], label shape: [1000]\n",
      "batch: 46, image shape: [1000, 1, 28, 28], label shape: [1000]\n",
      "batch: 47, image shape: [1000, 1, 28, 28], label shape: [1000]\n",
      "batch: 48, image shape: [1000, 1, 28, 28], label shape: [1000]\n",
      "batch: 49, image shape: [1000, 1, 28, 28], label shape: [1000]\n",
      "batch: 50, image shape: [1000, 1, 28, 28], label shape: [1000]\n",
      "batch: 51, image shape: [1000, 1, 28, 28], label shape: [1000]\n",
      "batch: 52, image shape: [1000, 1, 28, 28], label shape: [1000]\n",
      "batch: 53, image shape: [1000, 1, 28, 28], label shape: [1000]\n",
      "batch: 54, image shape: [1000, 1, 28, 28], label shape: [1000]\n",
      "batch: 55, image shape: [1000, 1, 28, 28], label shape: [1000]\n",
      "batch: 56, image shape: [1000, 1, 28, 28], label shape: [1000]\n",
      "batch: 57, image shape: [1000, 1, 28, 28], label shape: [1000]\n",
      "batch: 58, image shape: [1000, 1, 28, 28], label shape: [1000]\n",
      "batch: 59, image shape: [1000, 1, 28, 28], label shape: [1000]\n"
     ]
    }
   ],
   "source": [
    "\"\"\"分批次迭代读取数据集\n",
    "\n",
    "@batch_size 每批次读取的样本数量。总批次 = 样本总数 / 每批次数量\n",
    "@shuffle 是否乱序读取\n",
    "@drop_last 是否丢弃最后不完整的批次样本\n",
    "@num_workers 同步/异步读取数据，当大于0时表示进程个数，即开启多进程方式异步加载数据\n",
    "\"\"\"\n",
    "train_loader = paddle.io.DataLoader(custom_train_dataset, batch_size=1000, \n",
    "                                    shuffle=True, drop_last=True, num_workers=0)\n",
    "\n",
    "for batch, data in enumerate(train_loader()):\n",
    "    images, labels = data\n",
    "    print('batch: {}, image shape: {}, label shape: {}'.format(batch, images.shape, labels.shape))"
   ]
  }
 ],
 "metadata": {
  "kernelspec": {
   "display_name": "Python 3 (ipykernel)",
   "language": "python",
   "name": "python3"
  },
  "language_info": {
   "codemirror_mode": {
    "name": "ipython",
    "version": 3
   },
   "file_extension": ".py",
   "mimetype": "text/x-python",
   "name": "python",
   "nbconvert_exporter": "python",
   "pygments_lexer": "ipython3",
   "version": "3.11.4"
  }
 },
 "nbformat": 4,
 "nbformat_minor": 5
}
