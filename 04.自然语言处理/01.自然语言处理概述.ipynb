{
 "cells": [
  {
   "cell_type": "markdown",
   "id": "ce62e59e",
   "metadata": {},
   "source": [
    "## 自然语言处理"
   ]
  },
  {
   "cell_type": "markdown",
   "id": "14aee150",
   "metadata": {},
   "source": [
    "**自然语言处理（Natural Language Processing，简称NLP）**是一门融合语言学、计算机科学和数学于一体的科学，被誉为人工智能皇冠上的明珠，是计算机科学和人工智能领域的一个重要方向。它主要研究人与计算机之间，使用自然语言进行有效通信的各种理论和方法。简单来说，计算机以用户的自然语言数据作为输入，在其内部通过定义的算法进行加工、计算等系列操作后（用以模拟人类对自然语言的理解），再返回用户所期望的结果。"
   ]
  },
  {
   "cell_type": "markdown",
   "id": "a11d63e0",
   "metadata": {},
   "source": [
    "自然语言处理技术面临的挑战\n",
    "\n",
    "- 语言学角度：自然语言数量多、形态各异，理解自然语言对人来说本身也是一件复杂的事情，如同义词、情感倾向、歧义性、长文本处理、语言惯性表达等。\n",
    "- 计算角度：计算机是计算的机器，现有的计算机都以浮点数为输入和输出，计算机为了能存储和显示自然语言，需要把自然语言中的字符转换为一个固定长度（或者变长）的二进制编码。"
   ]
  },
  {
   "cell_type": "markdown",
   "id": "587d3bd7",
   "metadata": {},
   "source": [
    "自然语言处理的常见任务\n",
    "\n",
    "- 词和短语级任务：包括切词、词性标注、命名实体识别、同义词计算等以词为研究对象的任务；\n",
    "- 句子和段落级任务：包括文本倾向性分析、文本相似度计算等以句子为研究对象的任务；\n",
    "- 对话和篇章级任务：包括机器阅读理解、对话系统等复杂的自然语言处理系统等；\n",
    "- 自然语言生成：如机器翻译、机器写作等自然语言生成任务；"
   ]
  },
  {
   "cell_type": "markdown",
   "id": "903114d1",
   "metadata": {},
   "source": [
    "## 词向量\n",
    "\n",
    "在自然语言处理任务中，词向量（Word Embedding）是表示自然语言里单词的一种方法，即把每个词都表示为一个N维空间内的点，即一个高维空间内的向量。通过这种方法，实现把自然语言计算转换为向量计算。\n",
    "- 把词转换为向量（词表-向量映射）\n",
    "- 让向量具有语义信息（word2vec，包括CBOW和Skip-gram两个模型）"
   ]
  },
  {
   "cell_type": "markdown",
   "id": "0edd965c",
   "metadata": {},
   "source": [
    "## 情感分析\n",
    "\n",
    "- 简单的说，可以将自然语言情感分析任务定义为一个分类问题，即指定一个文本输入，机器通过对文本进行分析、处理、归纳和推理后自动输出结论：正向、负向、其他。\n",
    "- 大多数自然语言模型都建立在对句子的序列化建模上（句子是词的序列），比较经典的有：循环神经网络RNN(Recurrent Neural Network)和长短时记忆网络LSTM(Long Short-Term Memory)。\n",
    "- 文本匹配，即文本相似度分析，是把每个句子抽象成一个向量表示，通过计算这两个向量之间的相似度就可以快速完成相似度计算任务。"
   ]
  }
 ],
 "metadata": {
  "kernelspec": {
   "display_name": "Python 3 (ipykernel)",
   "language": "python",
   "name": "python3"
  },
  "language_info": {
   "codemirror_mode": {
    "name": "ipython",
    "version": 3
   },
   "file_extension": ".py",
   "mimetype": "text/x-python",
   "name": "python",
   "nbconvert_exporter": "python",
   "pygments_lexer": "ipython3",
   "version": "3.11.4"
  }
 },
 "nbformat": 4,
 "nbformat_minor": 5
}
