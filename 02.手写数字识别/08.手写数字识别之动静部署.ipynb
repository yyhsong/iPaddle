{
 "cells": [
  {
   "cell_type": "markdown",
   "id": "9bed218f",
   "metadata": {},
   "source": [
    "## 动态图转静态图训练\n",
    "\n",
    "- 飞桨的动转静方式是基于源代码级别转换的ProgramTranslator实现，其原理是通过分析Python代码，将动态图代码转写为静态图代码，并在底层自动使用静态图执行器运行。\n",
    "- 动转静的基本使用方法，只需要在要转化的函数（该函数也可以是用户自定义动态图Layer的forward函数）前添加一个装饰器 @paddle.jit.to_static，这种转换方式使得可以灵活使用Python语法及其控制流来构建神经网络模型。"
   ]
  },
  {
   "cell_type": "code",
   "execution_count": 1,
   "id": "35a8d8f8",
   "metadata": {},
   "outputs": [],
   "source": [
    "import paddle\n",
    "import paddle.nn.functional as F\n",
    "# 确保从paddle.vision.datasets.MNIST中加载的图像数据是np.ndarray类型\n",
    "paddle.vision.set_image_backend('cv2')\n",
    "\n",
    "# 定义手写数字识别模型\n",
    "class MNIST(paddle.nn.Layer):\n",
    "    def __init__(self):\n",
    "        super(MNIST, self).__init__()\n",
    "        \n",
    "        # 定义一层全连接层，输出维度是1\n",
    "        self.fc = paddle.nn.Linear(in_features=784, out_features=10)\n",
    "\n",
    "    # 定义网络结构的前向计算过程\n",
    "    @paddle.jit.to_static  # 添加装饰器，使动态图网络结构在静态图模式下运行\n",
    "    def forward(self, inputs):\n",
    "        outputs = self.fc(inputs)\n",
    "        return outputs"
   ]
  },
  {
   "cell_type": "code",
   "execution_count": 2,
   "id": "c32d1d16",
   "metadata": {},
   "outputs": [],
   "source": [
    "# 图像归一化函数，将数据范围为[0, 255]的图像归一化到[-1, 1]\n",
    "def norm_img(img):\n",
    "    batch_size = img.shape[0]\n",
    "    # 归一化图像数据\n",
    "    img = img/127.5 - 1\n",
    "    # 将图像形式reshape为[batch_size, 784]\n",
    "    img = paddle.reshape(img, [batch_size, 784])\n",
    "    \n",
    "    return img"
   ]
  },
  {
   "cell_type": "code",
   "execution_count": 3,
   "id": "a6cb5acb",
   "metadata": {},
   "outputs": [],
   "source": [
    "def train(model):\n",
    "    model.train()\n",
    "    # 加载训练集 batch_size 设为 16\n",
    "    train_loader = paddle.io.DataLoader(paddle.vision.datasets.MNIST(mode='train'), \n",
    "                                        batch_size=16, \n",
    "                                        shuffle=True)\n",
    "    opt = paddle.optimizer.SGD(learning_rate=0.001, parameters=model.parameters())\n",
    "    EPOCH_NUM = 10\n",
    "    for epoch in range(EPOCH_NUM):\n",
    "        for batch_id, data in enumerate(train_loader()):\n",
    "            images = norm_img(data[0]).astype('float32')\n",
    "            labels = data[1].astype('int64')\n",
    "            \n",
    "            #前向计算的过程\n",
    "            predicts = model(images)\n",
    "            \n",
    "            # 计算损失\n",
    "            loss = F.cross_entropy(predicts, labels)\n",
    "            avg_loss = paddle.mean(loss)\n",
    "            \n",
    "            #每训练了1000批次的数据，打印下当前Loss的情况\n",
    "            if batch_id % 1000 == 0:\n",
    "                print(\"epoch_id: {}, batch_id: {}, loss is: {}\".format(epoch, batch_id, avg_loss.numpy()))\n",
    "            \n",
    "            #后向传播，更新参数的过程\n",
    "            avg_loss.backward()\n",
    "            opt.step()\n",
    "            opt.clear_grad()"
   ]
  },
  {
   "cell_type": "code",
   "execution_count": 4,
   "id": "67db8377",
   "metadata": {},
   "outputs": [
    {
     "name": "stdout",
     "output_type": "stream",
     "text": [
      "epoch_id: 0, batch_id: 0, loss is: [3.3005857]\n",
      "epoch_id: 0, batch_id: 1000, loss is: [0.7897545]\n",
      "epoch_id: 0, batch_id: 2000, loss is: [0.5859482]\n",
      "epoch_id: 0, batch_id: 3000, loss is: [1.057006]\n",
      "epoch_id: 1, batch_id: 0, loss is: [0.67698306]\n",
      "epoch_id: 1, batch_id: 1000, loss is: [0.446375]\n",
      "epoch_id: 1, batch_id: 2000, loss is: [0.38303977]\n",
      "epoch_id: 1, batch_id: 3000, loss is: [0.56168306]\n",
      "epoch_id: 2, batch_id: 0, loss is: [0.22864169]\n",
      "epoch_id: 2, batch_id: 1000, loss is: [0.48306552]\n",
      "epoch_id: 2, batch_id: 2000, loss is: [0.45017353]\n",
      "epoch_id: 2, batch_id: 3000, loss is: [0.42036504]\n",
      "epoch_id: 3, batch_id: 0, loss is: [0.2420464]\n",
      "epoch_id: 3, batch_id: 1000, loss is: [0.7084192]\n",
      "epoch_id: 3, batch_id: 2000, loss is: [0.16424029]\n",
      "epoch_id: 3, batch_id: 3000, loss is: [0.41065025]\n",
      "epoch_id: 4, batch_id: 0, loss is: [0.43705136]\n",
      "epoch_id: 4, batch_id: 1000, loss is: [0.40018773]\n",
      "epoch_id: 4, batch_id: 2000, loss is: [0.866436]\n",
      "epoch_id: 4, batch_id: 3000, loss is: [0.19154721]\n",
      "epoch_id: 5, batch_id: 0, loss is: [0.07184212]\n",
      "epoch_id: 5, batch_id: 1000, loss is: [0.15982556]\n",
      "epoch_id: 5, batch_id: 2000, loss is: [0.16716902]\n",
      "epoch_id: 5, batch_id: 3000, loss is: [0.23040307]\n",
      "epoch_id: 6, batch_id: 0, loss is: [0.18530568]\n",
      "epoch_id: 6, batch_id: 1000, loss is: [0.37767544]\n",
      "epoch_id: 6, batch_id: 2000, loss is: [0.5381916]\n",
      "epoch_id: 6, batch_id: 3000, loss is: [0.28470767]\n",
      "epoch_id: 7, batch_id: 0, loss is: [0.11090701]\n",
      "epoch_id: 7, batch_id: 1000, loss is: [0.72922254]\n",
      "epoch_id: 7, batch_id: 2000, loss is: [0.3175199]\n",
      "epoch_id: 7, batch_id: 3000, loss is: [0.4991768]\n",
      "epoch_id: 8, batch_id: 0, loss is: [0.29291898]\n",
      "epoch_id: 8, batch_id: 1000, loss is: [0.14601152]\n",
      "epoch_id: 8, batch_id: 2000, loss is: [0.6150015]\n",
      "epoch_id: 8, batch_id: 3000, loss is: [0.11674409]\n",
      "epoch_id: 9, batch_id: 0, loss is: [0.19284283]\n",
      "epoch_id: 9, batch_id: 1000, loss is: [0.40644997]\n",
      "epoch_id: 9, batch_id: 2000, loss is: [0.72426873]\n",
      "epoch_id: 9, batch_id: 3000, loss is: [0.25005108]\n",
      "Trained model saved in ./mnist.pdparams\n"
     ]
    }
   ],
   "source": [
    "model = MNIST() \n",
    "\n",
    "train(model)\n",
    "\n",
    "paddle.save(model.state_dict(), './mnist.pdparams')\n",
    "print('Trained model saved in ./mnist.pdparams')"
   ]
  },
  {
   "attachments": {
    "image.png": {
     "image/png": "[encoded data removed]"
    }
   },
   "cell_type": "markdown",
   "id": "a67951eb",
   "metadata": {},
   "source": [
    "## 动态图转静态图模型保存\n",
    "\n",
    "- 在推理&部署场景中，需要同时保存推理模型的结构和参数，但是动态图是即时执行即时得到结果，并不会记录模型的结构信息\n",
    "- 动态图在保存推理模型时，需要先将动态图模型转换为静态图写法，编译得到对应的模型结构再保存\n",
    "- paddle.jit.save和paddle.jit.load接口，无需重新实现静态图网络结构，直接实现动态图模型转成静态图模型格式\n",
    "- paddle.jit.save接口会自动调用动态图转静态图功能，使得用户可以做到使用动态图编程调试，自动转成静态图训练部署\n",
    "\n",
    "![image.png](attachment:image.png)"
   ]
  },
  {
   "cell_type": "code",
   "execution_count": 6,
   "id": "24eebe8d",
   "metadata": {},
   "outputs": [
    {
     "name": "stdout",
     "output_type": "stream",
     "text": [
      "Inference model saved in inference/mnist.\n"
     ]
    }
   ],
   "source": [
    "# save inference model\n",
    "from paddle.static import InputSpec\n",
    "\n",
    "# 加载训练好的模型参数\n",
    "state_dict = paddle.load(\"./mnist.pdparams\")\n",
    "\n",
    "# 将训练好的参数读取到网络中\n",
    "model.set_state_dict(state_dict)\n",
    "\n",
    "# 设置模型为评估模式\n",
    "model.eval()\n",
    "\n",
    "# 保存inference模型\n",
    "paddle.jit.save(\n",
    "    layer=model,\n",
    "    path=\"inference/mnist\",\n",
    "    input_spec=[InputSpec(shape=[None, 784], dtype='float32')])\n",
    "\n",
    "print('Inference model saved in inference/mnist.')"
   ]
  },
  {
   "cell_type": "markdown",
   "id": "88544f96",
   "metadata": {},
   "source": [
    "- paddle.jit.save API 将输入的网络存储为 paddle.jit.TranslatedLayer 格式的模型，载入后可用于预测推理或者fine-tune训练\n",
    "- 该接口会将输入网络转写后的模型结构 Program 和所有必要的持久参数变量存储至输入路径 path\n",
    "- path 是存储目标的前缀，存储的模型结构 Program 文件的后缀为 .pdmodel ，存储的持久参数变量文件的后缀为 .pdiparams ，同时也会将一些变量描述信息存储至文件，文件后缀为 .pdiparams.info\n",
    "- paddle.jit.save API 可以把输入的网络结构和参数固化到一个文件中，所以通过加载保存的模型，可以不用重新构建网络结构而直接用于预测，易于模型部署"
   ]
  },
  {
   "cell_type": "code",
   "execution_count": 8,
   "id": "c16042e9",
   "metadata": {},
   "outputs": [
    {
     "name": "stdout",
     "output_type": "stream",
     "text": [
      "The label of readed image is :  [7]\n",
      "The predicted label is :  [7]\n"
     ]
    }
   ],
   "source": [
    "# 通过调用对应的paddle.jit.load接口，可以把存储的模型载入为 paddle.jit.TranslatedLayer格式，用于预测推理或者fine-tune训练\n",
    "\n",
    "# 读取mnist测试数据，获取第一个数据\n",
    "mnist_test = paddle.vision.datasets.MNIST(mode='test')\n",
    "test_image, label = mnist_test[0]\n",
    "\n",
    "# 获取读取到的图像的数字标签\n",
    "print(\"The label of readed image is : \", label)\n",
    "\n",
    "# 将测试图像数据转换为tensor，并reshape为[1, 784]\n",
    "test_image = paddle.reshape(paddle.to_tensor(test_image), [1, 784])\n",
    "\n",
    "# 然后执行图像归一化\n",
    "test_image = norm_img(test_image)\n",
    "\n",
    "# 加载保存的模型\n",
    "loaded_model = paddle.jit.load(\"./inference/mnist\")\n",
    "\n",
    "# 利用加载的模型执行预测\n",
    "preds = loaded_model(test_image)\n",
    "pred_label = paddle.argmax(preds)\n",
    "\n",
    "# 打印预测结果\n",
    "print(\"The predicted label is : \", pred_label.numpy())"
   ]
  }
 ],
 "metadata": {
  "kernelspec": {
   "display_name": "Python 3 (ipykernel)",
   "language": "python",
   "name": "python3"
  },
  "language_info": {
   "codemirror_mode": {
    "name": "ipython",
    "version": 3
   },
   "file_extension": ".py",
   "mimetype": "text/x-python",
   "name": "python",
   "nbconvert_exporter": "python",
   "pygments_lexer": "ipython3",
   "version": "3.11.4"
  }
 },
 "nbformat": 4,
 "nbformat_minor": 5
}
