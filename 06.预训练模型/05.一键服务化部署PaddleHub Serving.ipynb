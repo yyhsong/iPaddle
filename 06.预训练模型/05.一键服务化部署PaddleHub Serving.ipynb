{
 "cells": [
  {
   "cell_type": "markdown",
   "id": "260aa66b",
   "metadata": {},
   "source": [
    "## PaddleHub Serving"
   ]
  },
  {
   "cell_type": "markdown",
   "id": "43fb95f5",
   "metadata": {},
   "source": [
    "PaddleHub Serving是基于PaddleHub的一键模型服务部署工具，能够通过简单的Hub命令行工具轻松启动一个模型预测在线服务，前端通过Flask和Gunicorn完成网络请求的处理，后端直接调用PaddleHub预测接口，同时支持使用多进程方式利用多核提高并发能力，保证预测服务的性能。\n",
    "\n",
    "PaddleHub Serving有两种启动方式：\n",
    "- 命令行启动\n",
    "- 配置文件启动"
   ]
  },
  {
   "cell_type": "markdown",
   "id": "d9bcc3f8",
   "metadata": {},
   "source": [
    "### 命令行启动"
   ]
  },
  {
   "cell_type": "markdown",
   "id": "6e4d9746",
   "metadata": {},
   "source": [
    "```\n",
    "hub serving start --modules Module1==Version1 Module2==Version2 ... \\\n",
    "              --port XXXX \\\n",
    "              --use_gpu \\\n",
    "              --use_multiprocess \\\n",
    "              --workers \\\n",
    "              --gpu \\\n",
    "```"
   ]
  },
  {
   "cell_type": "markdown",
   "id": "1592158f",
   "metadata": {},
   "source": [
    "### 配置文件启动"
   ]
  },
  {
   "cell_type": "markdown",
   "id": "105688f7",
   "metadata": {},
   "source": [
    "```\n",
    "hub serving start --config config.json\n",
    "```"
   ]
  },
  {
   "cell_type": "markdown",
   "id": "04783452",
   "metadata": {},
   "source": [
    "### 关闭服务"
   ]
  },
  {
   "cell_type": "markdown",
   "id": "4c167727",
   "metadata": {},
   "source": [
    "```\n",
    "hub serving stop --port XXXX\n",
    "```"
   ]
  },
  {
   "cell_type": "markdown",
   "id": "c3497963",
   "metadata": {},
   "source": [
    "## 访问预测接口"
   ]
  },
  {
   "cell_type": "markdown",
   "id": "f55aa84b",
   "metadata": {},
   "source": [
    "启动分词服务\n",
    "\n",
    "\n",
    "```\n",
    "hub serving start -m lac\n",
    "```"
   ]
  },
  {
   "cell_type": "code",
   "execution_count": 4,
   "id": "202ae756",
   "metadata": {
    "scrolled": true
   },
   "outputs": [
    {
     "name": "stdout",
     "output_type": "stream",
     "text": [
      "{\n",
      "    \"msg\": \"\",\n",
      "    \"results\": [\n",
      "        {\n",
      "            \"tag\": [\n",
      "                \"LOC\",\n",
      "                \"n\",\n",
      "                \"w\",\n",
      "                \"nz\",\n",
      "                \"w\",\n",
      "                \"d\",\n",
      "                \"t\",\n",
      "                \"w\",\n",
      "                \"n\",\n",
      "                \"n\",\n",
      "                \"r\",\n",
      "                \"p\",\n",
      "                \"vn\",\n",
      "                \"vn\",\n",
      "                \"v\",\n",
      "                \"a\",\n",
      "                \"vn\",\n",
      "                \"w\"\n",
      "            ],\n",
      "            \"word\": [\n",
      "                \"中国\",\n",
      "                \"汽车\",\n",
      "                \"“\",\n",
      "                \"破浪出海\",\n",
      "                \"”\",\n",
      "                \"正\",\n",
      "                \"当时\",\n",
      "                \"，\",\n",
      "                \"零部件\",\n",
      "                \"企业\",\n",
      "                \"如何\",\n",
      "                \"通过\",\n",
      "                \"数字化\",\n",
      "                \"转型\",\n",
      "                \"实现\",\n",
      "                \"长效\",\n",
      "                \"增长\",\n",
      "                \"？\"\n",
      "            ]\n",
      "        }\n",
      "    ],\n",
      "    \"status\": \"000\"\n",
      "}\n"
     ]
    }
   ],
   "source": [
    "import requests\n",
    "import json\n",
    "\n",
    "# 指定用于预测的文本\n",
    "text = ['中国汽车“破浪出海”正当时，零部件企业如何通过数字化转型实现长效增长？']\n",
    "\n",
    "# 构建传入参数\n",
    "data = {'text': text, \"batch_size\": 1}\n",
    "\n",
    "# 接口地址，启动PaddleHub Serving服务后生成\n",
    "url = 'http://127.0.0.1:8866/predict/lac'\n",
    "\n",
    "# 设置POST请求的headers\n",
    "headers = {'Content-Type': 'application/json'}\n",
    "\n",
    "# 调用接口\n",
    "r = requests.post(url=url, headers=headers, data=json.dumps(data))\n",
    "\n",
    "# 打印预测结果\n",
    "print(json.dumps(r.json(), indent=4, ensure_ascii=False))"
   ]
  }
 ],
 "metadata": {
  "kernelspec": {
   "display_name": "Python 3 (ipykernel)",
   "language": "python",
   "name": "python3"
  },
  "language_info": {
   "codemirror_mode": {
    "name": "ipython",
    "version": 3
   },
   "file_extension": ".py",
   "mimetype": "text/x-python",
   "name": "python",
   "nbconvert_exporter": "python",
   "pygments_lexer": "ipython3",
   "version": "3.9.13"
  }
 },
 "nbformat": 4,
 "nbformat_minor": 5
}
