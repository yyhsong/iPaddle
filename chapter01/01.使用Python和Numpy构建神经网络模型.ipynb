{
 "cells": [
  {
   "cell_type": "markdown",
   "metadata": {},
   "source": [
    "## 构建神经网络/深度学习模型的基本步骤\n",
    "\n",
    "- 数据处理：从本地或URL读取数据，并完成预处理操作（如数据校验、格式转化等），保证模型可读取。\n",
    "- 模型设计：网络结构设计，相当于模型的假设空间，即模型能够表达的关系集合。\n",
    "- 训练配置：设定模型采用的寻解算法，即优化器，并指定计算资源。\n",
    "- 训练过程：循环调用训练过程，每轮都包括前向计算、损失函数（优化目标）和反向传播三个步骤。\n",
    "- 模型保存：将训练好的模型保存，模型预测时调用。"
   ]
  },
  {
   "cell_type": "markdown",
   "metadata": {},
   "source": [
    "### 数据处理\n",
    "\n",
    "- 数据处理包含五个部分：数据导入、数据形状变换、数据集划分、数据归一化处理和封装`load data`函数。\n",
    "- 数据预处理后，才能被模型调用"
   ]
  },
  {
   "cell_type": "code",
   "execution_count": 7,
   "metadata": {},
   "outputs": [
    {
     "data": {
      "text/plain": [
       "array([6.320e-03, 1.800e+01, 2.310e+00, ..., 3.969e+02, 7.880e+00,\n",
       "       1.190e+01])"
      ]
     },
     "execution_count": 7,
     "metadata": {},
     "output_type": "execute_result"
    }
   ],
   "source": [
    "import numpy as np\n",
    "import json\n",
    "\n",
    "\"\"\"数据导入\"\"\"\n",
    "\n",
    "data = np.fromfile(r'../datasets/housing.data', sep=' ')\n",
    "data"
   ]
  },
  {
   "cell_type": "code",
   "execution_count": 8,
   "metadata": {},
   "outputs": [
    {
     "data": {
      "text/plain": [
       "(506, 14)"
      ]
     },
     "execution_count": 8,
     "metadata": {},
     "output_type": "execute_result"
    }
   ],
   "source": [
    "\"\"\"数据形状变换\n",
    "\n",
    "导入的原始数据是1维array，其中array的第0-13项是第一条数据，第14-27项是第二条数据，以此类推...\n",
    "把数据形状转换成 N * 14 的二维矩阵\n",
    "\"\"\"\n",
    "\n",
    "feature_names = ['CRIM', 'ZN', 'INDUS', 'CHAS', 'NOX', 'RM', 'AGE','DIS', 'RAD', 'TAX', 'PTRATIO', 'B', 'LSTAT', 'MEDV']\n",
    "feature_num = len(feature_names)\n",
    "data = data.reshape([data.shape[0] // feature_num, feature_num])\n",
    "\n",
    "data.shape"
   ]
  },
  {
   "cell_type": "code",
   "execution_count": 9,
   "metadata": {},
   "outputs": [
    {
     "data": {
      "text/plain": [
       "(404, 14)"
      ]
     },
     "execution_count": 9,
     "metadata": {},
     "output_type": "execute_result"
    }
   ],
   "source": [
    "\"\"\"数据集划分\n",
    "\n",
    "将数据集划分为训练集和测试集，训练集用于确定模型的参数，测试集用于评判模型的效果\n",
    "\"\"\"\n",
    "\n",
    "ratio = 0.8\n",
    "offset = int(data.shape[0] * ratio)\n",
    "training_data = data[:offset]\n",
    "\n",
    "training_data.shape"
   ]
  },
  {
   "cell_type": "code",
   "execution_count": 11,
   "metadata": {},
   "outputs": [
    {
     "data": {
      "text/plain": [
       "array([0.        , 0.18      , 0.07344184, 0.        , 0.31481481,\n",
       "       0.57750527, 0.64160659, 0.26920314, 0.        , 0.22755741,\n",
       "       0.28723404, 1.        , 0.08967991, 0.42222222])"
      ]
     },
     "execution_count": 11,
     "metadata": {},
     "output_type": "execute_result"
    }
   ],
   "source": [
    "\"\"\"数据归一化处理\n",
    "\n",
    "对每个特征进行归一化处理，使得每个特征的取值缩放到0-1之间\n",
    "归一化的好处：模型训练更高效；特征前的权重大小可以代表该变量对预测结果的贡献度。\n",
    "\"\"\"\n",
    "\n",
    "# 计算训练数据集的最大值、最小值和平均值\n",
    "maximums = training_data.max(axis=0)\n",
    "minimums = training_data.min(axis=0)\n",
    "avgs = training_data.sum(axis=0) / training_data.shape[0]\n",
    "\n",
    "# 对数据进行归一化处理\n",
    "for i in range(feature_num):\n",
    "    data[:, i] = (data[:, i] - minimums[i]) / (maximums[i] - minimums[i])\n",
    "    \n",
    "data[0]"
   ]
  },
  {
   "cell_type": "code",
   "execution_count": 16,
   "metadata": {},
   "outputs": [],
   "source": [
    "\"\"\"封装成load_data函数\"\"\"\n",
    "\n",
    "def load_data():\n",
    "    # 从文件导入数据\n",
    "    data = np.fromfile(r'../datasets/housing.data', sep=' ')\n",
    "    \n",
    "    # 数据形状变换\n",
    "    feature_names = ['CRIM', 'ZN', 'INDUS', 'CHAS', 'NOX', 'RM', 'AGE','DIS', 'RAD', 'TAX', 'PTRATIO', 'B', 'LSTAT', 'MEDV']\n",
    "    feature_num = len(feature_names)\n",
    "    data = data.reshape([data.shape[0] // feature_num, feature_num])\n",
    "    \n",
    "    # 数据集划分\n",
    "    ratio = 0.8\n",
    "    offset = int(data.shape[0] * ratio)\n",
    "    training_data = data[:offset]\n",
    "    \n",
    "    # 归一化处理\n",
    "    maximums = training_data.max(axis=0)\n",
    "    minimums = training_data.min(axis=0)\n",
    "    avgs = training_data.sum(axis=0) / training_data.shape[0]\n",
    "    \n",
    "    for i in range(feature_num):\n",
    "        data[:, i] = (data[:, i] - minimums[i]) / (maximums[i] - minimums[i])\n",
    "        \n",
    "    # 返回训练集和测试集\n",
    "    training_data = data[:offset]\n",
    "    test_data = data[offset:]\n",
    "    return training_data, test_data"
   ]
  },
  {
   "cell_type": "code",
   "execution_count": 18,
   "metadata": {},
   "outputs": [
    {
     "name": "stdout",
     "output_type": "stream",
     "text": [
      "[0.         0.18       0.07344184 0.         0.31481481 0.57750527\n",
      " 0.64160659 0.26920314 0.         0.22755741 0.28723404 1.\n",
      " 0.08967991]\n",
      "[0.42222222]\n"
     ]
    }
   ],
   "source": [
    "# 获取数据\n",
    "training_data, test_data = load_data()\n",
    "x = training_data[:, :-1]\n",
    "y = training_data[:, -1:]\n",
    "\n",
    "print(x[0])\n",
    "print(y[0])"
   ]
  },
  {
   "cell_type": "code",
   "execution_count": null,
   "metadata": {},
   "outputs": [],
   "source": []
  },
  {
   "cell_type": "code",
   "execution_count": null,
   "metadata": {},
   "outputs": [],
   "source": []
  },
  {
   "cell_type": "code",
   "execution_count": null,
   "metadata": {},
   "outputs": [],
   "source": []
  },
  {
   "cell_type": "code",
   "execution_count": null,
   "metadata": {},
   "outputs": [],
   "source": []
  },
  {
   "cell_type": "code",
   "execution_count": null,
   "metadata": {},
   "outputs": [],
   "source": []
  },
  {
   "cell_type": "code",
   "execution_count": null,
   "metadata": {},
   "outputs": [],
   "source": []
  },
  {
   "cell_type": "code",
   "execution_count": null,
   "metadata": {},
   "outputs": [],
   "source": []
  },
  {
   "cell_type": "code",
   "execution_count": null,
   "metadata": {},
   "outputs": [],
   "source": []
  }
 ],
 "metadata": {
  "kernelspec": {
   "display_name": "Python 3",
   "language": "python",
   "name": "python3"
  },
  "language_info": {
   "codemirror_mode": {
    "name": "ipython",
    "version": 3
   },
   "file_extension": ".py",
   "mimetype": "text/x-python",
   "name": "python",
   "nbconvert_exporter": "python",
   "pygments_lexer": "ipython3",
   "version": "3.8.5"
  }
 },
 "nbformat": 4,
 "nbformat_minor": 4
}
