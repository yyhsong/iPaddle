{
 "cells": [
  {
   "cell_type": "code",
   "execution_count": 1,
   "id": "ff58fd87",
   "metadata": {},
   "outputs": [],
   "source": [
    "import paddle\n",
    "\n",
    "import numpy as np"
   ]
  },
  {
   "cell_type": "markdown",
   "id": "fd9553d5",
   "metadata": {},
   "source": [
    "## Tensor的创建"
   ]
  },
  {
   "cell_type": "code",
   "execution_count": 2,
   "id": "2667bf04",
   "metadata": {},
   "outputs": [
    {
     "data": {
      "text/plain": [
       "Tensor(shape=[3, 3], dtype=int64, place=Place(cpu), stop_gradient=True,\n",
       "       [[1, 2, 3],\n",
       "        [4, 5, 6],\n",
       "        [7, 8, 9]])"
      ]
     },
     "execution_count": 2,
     "metadata": {},
     "output_type": "execute_result"
    }
   ],
   "source": [
    "# 指定数据创建\n",
    "# tensor与list和ndarray的互相转换\n",
    "list1 = [[1, 2, 3], [4, 5, 6], [7, 8, 9]]\n",
    "\n",
    "d1 = np.array(list1)\n",
    "\n",
    "# t1 = paddle.to_tensor(list1)\n",
    "t1 = paddle.to_tensor(d1)\n",
    "\n",
    "t1"
   ]
  },
  {
   "cell_type": "code",
   "execution_count": 5,
   "id": "c7359721",
   "metadata": {},
   "outputs": [
    {
     "data": {
      "text/plain": [
       "Tensor(shape=[3, 2], dtype=float32, place=Place(cpu), stop_gradient=True,\n",
       "       [[10., 10.],\n",
       "        [10., 10.],\n",
       "        [10., 10.]])"
      ]
     },
     "execution_count": 5,
     "metadata": {},
     "output_type": "execute_result"
    }
   ],
   "source": [
    "# 指定形状创建\n",
    "paddle.zeros([3, 2])\n",
    "paddle.ones([3, 2])\n",
    "paddle.full([3, 2], 10)"
   ]
  },
  {
   "cell_type": "code",
   "execution_count": 8,
   "id": "bd03f189",
   "metadata": {
    "scrolled": true
   },
   "outputs": [
    {
     "data": {
      "text/plain": [
       "Tensor(shape=[5], dtype=float32, place=Place(cpu), stop_gradient=True,\n",
       "       [1.        , 3.25000000, 5.50000000, 7.75000000, 10.       ])"
      ]
     },
     "execution_count": 8,
     "metadata": {},
     "output_type": "execute_result"
    }
   ],
   "source": [
    "# 指定区间创建\n",
    "paddle.arange(start=1, end=10, step=2)\n",
    "paddle.linspace(start=1, stop=10, num=5)"
   ]
  },
  {
   "cell_type": "code",
   "execution_count": 11,
   "id": "0525c3f4",
   "metadata": {
    "scrolled": true
   },
   "outputs": [
    {
     "data": {
      "text/plain": [
       "Tensor(shape=[3, 224, 224], dtype=float32, place=Place(cpu), stop_gradient=True,\n",
       "       [[[0.81960791, 0.34901962, 0.81568635, ..., 0.38431376,\n",
       "          0.20784315, 0.33725491],\n",
       "         [0.60000002, 0.89411771, 0.97647065, ..., 0.17254902,\n",
       "          0.98823535, 0.19215688],\n",
       "         [0.26666668, 0.01960784, 0.85882360, ..., 0.86666673,\n",
       "          0.14509805, 0.20392159],\n",
       "         ...,\n",
       "         [0.09411766, 0.54901963, 0.74117649, ..., 0.89803928,\n",
       "          0.20784315, 0.85098046],\n",
       "         [0.28627452, 0.12156864, 0.33725491, ..., 0.49803925,\n",
       "          0.01960784, 0.22352943],\n",
       "         [0.90588242, 0.51372552, 0.12549020, ..., 0.64705884,\n",
       "          0.52941179, 0.68627453]],\n",
       "\n",
       "        [[0.78431380, 0.54117650, 0.60000002, ..., 0.55294120,\n",
       "          0.15686275, 0.40000004],\n",
       "         [0.70588237, 0.44313729, 0.92941183, ..., 0.40784317,\n",
       "          0.15686275, 0.98823535],\n",
       "         [0.34901962, 0.07450981, 0.13333334, ..., 0.28235295,\n",
       "          0.47058827, 0.71372551],\n",
       "         ...,\n",
       "         [0.70980394, 0.69019610, 0.25490198, ..., 0.67843139,\n",
       "          0.50588238, 0.41960788],\n",
       "         [0.44705886, 0.14509805, 0.36470589, ..., 0.46274513,\n",
       "          0.48627454, 0.32156864],\n",
       "         [0.69411767, 0.74901962, 0.43529415, ..., 0.74509805,\n",
       "          0.82352948, 0.29803923]],\n",
       "\n",
       "        [[0.23921570, 0.11764707, 0.38431376, ..., 0.74901962,\n",
       "          0.90588242, 0.60392159],\n",
       "         [0.31372550, 0.88627458, 0.92156869, ..., 0.55294120,\n",
       "          0.79215693, 0.90196085],\n",
       "         [0.72549021, 0.12156864, 0.75294125, ..., 0.60000002,\n",
       "          0.92941183, 0.03921569],\n",
       "         ...,\n",
       "         [0.67450982, 0.79607850, 0.39215690, ..., 0.73725492,\n",
       "          0.54901963, 0.90588242],\n",
       "         [0.61960787, 0.60784316, 0.61568630, ..., 0.00784314,\n",
       "          0.49411768, 0.28627452],\n",
       "         [0.38431376, 0.45490199, 0.36078432, ..., 0.94117653,\n",
       "          0.97254908, 0.97254908]]])"
      ]
     },
     "execution_count": 11,
     "metadata": {},
     "output_type": "execute_result"
    }
   ],
   "source": [
    "\"\"\"指定图像、文本创建\n",
    "\n",
    "- 在常见深度学习任务中，数据样本可能是图片（image）、文本（text）、语音（audio）等多种类型，\n",
    "    在送入神经网络训练或推理前，这些数据和对应的标签均需要创建为 Tensor。\n",
    "- 对于图像场景，可使用 paddle.vision.transforms.ToTensor 直接将 PIL.Image 格式的数据转为 Tensor，\n",
    "    使用 paddle.to_tensor 将图像的标签（Label，通常是Python 或 Numpy 格式的数据）转为 Tensor。\n",
    "- 对于文本场景，需将文本数据解码为数字后，再通过 paddle.to_tensor 转为 Tensor。\n",
    "    不同文本任务标签形式不一样，有的任务标签也是文本，有的则是数字，均需最终通过 paddle.to_tensor 转为 Tensor。\n",
    "- 飞桨数据加载的 paddle.io.DataLoader API 能够将原始 paddle.io.Dataset 定义的数据自动转换为 Tensor。\n",
    "\n",
    "\"\"\"\n",
    "\n",
    "# 将随机生成的图片转换为Tensor格式\n",
    "from PIL import Image\n",
    "import paddle.vision.transforms as T\n",
    "\n",
    "fake_img = Image.fromarray((np.random.rand(224, 224, 3) * 255).astype(np.uint8))\n",
    "transform = T.ToTensor()\n",
    "img_tensor = transform(fake_img)\n",
    "\n",
    "img_tensor"
   ]
  },
  {
   "cell_type": "markdown",
   "id": "825fb424",
   "metadata": {},
   "source": [
    "## Tensor的属性"
   ]
  },
  {
   "cell_type": "code",
   "execution_count": 19,
   "id": "52ec76c2",
   "metadata": {},
   "outputs": [
    {
     "name": "stdout",
     "output_type": "stream",
     "text": [
      "形状： [3, 3]\n",
      "维度： 2\n",
      "元素个数： 9\n",
      "数据类型： paddle.float32\n"
     ]
    }
   ],
   "source": [
    "list1 = [i for i in range(1, 10)]\n",
    "\n",
    "t1 = paddle.to_tensor(list2, dtype='float32')\n",
    "\n",
    "t2 = paddle.reshape(t1, [3, -1])  # -1表示自动计算得出\n",
    "\n",
    "print('形状：', t2.shape)\n",
    "print('维度：', t2.ndim)\n",
    "print('元素个数：', t2.size)\n",
    "print('数据类型：', t2.dtype)"
   ]
  },
  {
   "cell_type": "markdown",
   "id": "384681ce",
   "metadata": {},
   "source": [
    "## Tensor的操作"
   ]
  },
  {
   "cell_type": "code",
   "execution_count": 24,
   "id": "7dbf372f",
   "metadata": {},
   "outputs": [
    {
     "data": {
      "text/plain": [
       "array([[1, 2],\n",
       "       [4, 5]], dtype=int64)"
      ]
     },
     "execution_count": 24,
     "metadata": {},
     "output_type": "execute_result"
    }
   ],
   "source": [
    "\"\"\"通过索引和切片方式可访问和修改Tensor\n",
    "\n",
    "- 基于0-n的下标进行索引，如果下标为负数，则从尾部开始计算。\n",
    "- 通过冒号分割切片参数，start:stop:step 来进行切片操作。\n",
    "\"\"\"\n",
    "\n",
    "# 针对多维Tensor，则会有多个维度上的索引或切片\n",
    "t3 = paddle.to_tensor([[1, 2, 3], [4, 5, 6], [7, 8, 9]])\n",
    "\n",
    "t3[0:2, 0:2].numpy()  # 转换为numpy数组"
   ]
  }
 ],
 "metadata": {
  "kernelspec": {
   "display_name": "Python 3 (ipykernel)",
   "language": "python",
   "name": "python3"
  },
  "language_info": {
   "codemirror_mode": {
    "name": "ipython",
    "version": 3
   },
   "file_extension": ".py",
   "mimetype": "text/x-python",
   "name": "python",
   "nbconvert_exporter": "python",
   "pygments_lexer": "ipython3",
   "version": "3.9.13"
  }
 },
 "nbformat": 4,
 "nbformat_minor": 5
}
