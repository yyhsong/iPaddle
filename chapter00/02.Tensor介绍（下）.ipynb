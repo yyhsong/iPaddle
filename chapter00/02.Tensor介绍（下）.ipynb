{
 "cells": [
  {
   "cell_type": "code",
   "execution_count": 1,
   "id": "2e7eabae",
   "metadata": {},
   "outputs": [],
   "source": [
    "import numpy as np\n",
    "import paddle"
   ]
  },
  {
   "cell_type": "markdown",
   "id": "5c0bab35",
   "metadata": {},
   "source": [
    "## Tensor的操作"
   ]
  },
  {
   "cell_type": "code",
   "execution_count": 2,
   "id": "397b8155",
   "metadata": {},
   "outputs": [
    {
     "data": {
      "text/plain": [
       "Tensor(shape=[3, 3], dtype=int64, place=Place(cpu), stop_gradient=True,\n",
       "       [[1, 2, 3],\n",
       "        [4, 5, 6],\n",
       "        [7, 8, 9]])"
      ]
     },
     "execution_count": 2,
     "metadata": {},
     "output_type": "execute_result"
    }
   ],
   "source": [
    "\"\"\"通过索引和切片方式可访问和修改Tensor\n",
    "\n",
    "- 飞浆使用标准的 Python 索引规则与 Numpy 索引规则\n",
    "- 基于0-n的下标进行索引，如果下标为负数，则从尾部开始计算\n",
    "- 通过冒号分割切片参数，start:stop:step 来进行切片操作\n",
    "\"\"\"\n",
    "\n",
    "# 针对多维Tensor，则会有多个维度上的索引或切片\n",
    "t = paddle.to_tensor([[1, 2, 3], [4, 5, 6], [7, 8, 9]])\n",
    "\n",
    "t"
   ]
  },
  {
   "cell_type": "code",
   "execution_count": 5,
   "id": "6aa7c914",
   "metadata": {},
   "outputs": [
    {
     "data": {
      "text/plain": [
       "array([[1, 2],\n",
       "       [4, 5]], dtype=int64)"
      ]
     },
     "execution_count": 5,
     "metadata": {},
     "output_type": "execute_result"
    }
   ],
   "source": [
    "t[0:2, 0:2].numpy() # 转换为numpy数组"
   ]
  },
  {
   "cell_type": "code",
   "execution_count": 7,
   "id": "e7f02507",
   "metadata": {},
   "outputs": [
    {
     "data": {
      "text/plain": [
       "array([9, 8, 7, 6, 5, 4, 3, 2, 1, 0])"
      ]
     },
     "execution_count": 7,
     "metadata": {},
     "output_type": "execute_result"
    }
   ],
   "source": [
    "# 针对一维Tensor，仅有单个维度上的索引或切片\n",
    "t1 = paddle.to_tensor(np.arange(10))\n",
    "\n",
    "# 取Tensor翻转后的值\n",
    "t1[::-1].numpy()"
   ]
  },
  {
   "cell_type": "markdown",
   "id": "4498f92b",
   "metadata": {},
   "source": [
    "飞桨还提供了丰富的 Tensor 操作的 API，包括数学运算、逻辑运算、线性代数等 100 余种 API，这些 API 调用有两种方法"
   ]
  },
  {
   "cell_type": "code",
   "execution_count": 9,
   "id": "8dafccfa",
   "metadata": {},
   "outputs": [
    {
     "data": {
      "text/plain": [
       "Tensor(shape=[2, 2], dtype=float64, place=Place(cpu), stop_gradient=True,\n",
       "       [[6.60000000 , 8.80000000 ],\n",
       "        [11.        , 13.20000000]])"
      ]
     },
     "execution_count": 9,
     "metadata": {},
     "output_type": "execute_result"
    }
   ],
   "source": [
    "x = paddle.to_tensor([[1.1, 2.2], [3.3, 4.4]], dtype='float64')\n",
    "y = paddle.to_tensor([[5.5, 6.6], [7.7, 8.8]], dtype='float64')\n",
    "\n",
    "# 使用Paddle的API\n",
    "paddle.add(x, y)"
   ]
  },
  {
   "cell_type": "code",
   "execution_count": 10,
   "id": "4f4dc188",
   "metadata": {},
   "outputs": [
    {
     "data": {
      "text/plain": [
       "Tensor(shape=[2, 2], dtype=float64, place=Place(cpu), stop_gradient=True,\n",
       "       [[6.60000000 , 8.80000000 ],\n",
       "        [11.        , 13.20000000]])"
      ]
     },
     "execution_count": 10,
     "metadata": {},
     "output_type": "execute_result"
    }
   ],
   "source": [
    "# 使用类成员函数\n",
    "x.add(y)"
   ]
  },
  {
   "cell_type": "markdown",
   "id": "2e324562",
   "metadata": {},
   "source": [
    "### 数学运算\n",
    "\n",
    "- x.abs()                       #逐元素取绝对值\n",
    "- x.ceil()                      #逐元素向上取整\n",
    "- x.floor()                     #逐元素向下取整\n",
    "- x.round()                     #逐元素四舍五入\n",
    "- x.exp()                       #逐元素计算自然常数为底的指数\n",
    "- x.log()                       #逐元素计算 x 的自然对数\n",
    "- x.reciprocal()                #逐元素求倒数\n",
    "- x.square()                    #逐元素计算平方\n",
    "- x.sqrt()                      #逐元素计算平方根\n",
    "- x.sin()                       #逐元素计算正弦\n",
    "- x.cos()                       #逐元素计算余弦\n",
    "- x.add(y)                      #逐元素相加\n",
    "- x.subtract(y)                 #逐元素相减\n",
    "- x.multiply(y)                 #逐元素相乘\n",
    "- x.divide(y)                   #逐元素相除\n",
    "- x.mod(y)                      #逐元素相除并取余\n",
    "- x.pow(y)                      #逐元素幂运算\n",
    "- x.max()                       #指定维度上元素最大值，默认为全部维度\n",
    "- x.min()                       #指定维度上元素最小值，默认为全部维度\n",
    "- x.prod()                      #指定维度上元素累乘，默认为全部维度\n",
    "- x.sum()                       #指定维度上元素的和，默认为全部维度"
   ]
  },
  {
   "cell_type": "markdown",
   "id": "2131ae50",
   "metadata": {},
   "source": [
    "### 逻辑运算\n",
    "\n",
    "- x.isfinite()                  #判断 Tensor 中元素是否是有限的数字，即不包括 inf 与 nan\n",
    "- x.equal_all(y)                #判断两个 Tensor 的全部元素是否相等，并返回形状为[]的布尔类 0-D Tensor\n",
    "- x.equal(y)                    #判断两个 Tensor 的每个元素是否相等，并返回形状相同的布尔类 Tensor\n",
    "- x.not_equal(y)                #判断两个 Tensor 的每个元素是否不相等\n",
    "- x.less_than(y)                #判断 Tensor x 的元素是否小于 Tensor y 的对应元素\n",
    "- x.less_equal(y)               #判断 Tensor x 的元素是否小于或等于 Tensor y 的对应元素\n",
    "- x.greater_than(y)             #判断 Tensor x 的元素是否大于 Tensor y 的对应元素\n",
    "- x.greater_equal(y)            #判断 Tensor x 的元素是否大于或等于 Tensor y 的对应元素\n",
    "- x.allclose(y)                 #判断 Tensor x 的全部元素是否与 Tensor y 的全部元素接近，并返回形状为[]的布尔类 0-D Tensor"
   ]
  },
  {
   "cell_type": "markdown",
   "id": "75f3accb",
   "metadata": {},
   "source": [
    "### 线性代数\n",
    "\n",
    "- x.t()                         #矩阵转置\n",
    "- x.transpose([1, 0])           #交换第 0 维与第 1 维的顺序\n",
    "- x.norm('fro')                 #矩阵的弗罗贝尼乌斯范数\n",
    "- x.dist(y, p=2)                #矩阵（x-y）的 2 范数\n",
    "- x.matmul(y)                   #矩阵乘法"
   ]
  },
  {
   "cell_type": "code",
   "execution_count": 12,
   "id": "87cf7bfa",
   "metadata": {},
   "outputs": [
    {
     "data": {
      "text/plain": [
       "Tensor(shape=[3, 3], dtype=int64, place=Place(cpu), stop_gradient=True,\n",
       "       [[1, 2, 3],\n",
       "        [4, 5, 6],\n",
       "        [7, 8, 9]])"
      ]
     },
     "execution_count": 12,
     "metadata": {},
     "output_type": "execute_result"
    }
   ],
   "source": [
    "x = paddle.to_tensor([[1, 2, 3], [4, 5, 6], [7, 8, 9]])\n",
    "x"
   ]
  },
  {
   "cell_type": "code",
   "execution_count": 13,
   "id": "db01e3c9",
   "metadata": {},
   "outputs": [
    {
     "data": {
      "text/plain": [
       "Tensor(shape=[3, 3], dtype=int64, place=Place(cpu), stop_gradient=True,\n",
       "       [[1, 4, 7],\n",
       "        [2, 5, 8],\n",
       "        [3, 6, 9]])"
      ]
     },
     "execution_count": 13,
     "metadata": {},
     "output_type": "execute_result"
    }
   ],
   "source": [
    "x.t()"
   ]
  },
  {
   "cell_type": "markdown",
   "id": "b94521b0",
   "metadata": {},
   "source": [
    "## Tensor的广播机制\n",
    "\n",
    "在深度学习任务中，有时需要使用较小形状的 Tensor 与较大形状的 Tensor 执行计算，广播机制就是将较小形状的 Tensor 扩展到与较大形状的 Tensor 一样的形状，便于匹配计算，同时又没有对较小形状 Tensor 进行数据拷贝操作，从而提升算法实现的运算效率。 \n",
    "\n",
    "飞浆的广播(Broadcasting)机制主要遵循如下规则：\n",
    "\n",
    "- 每个 Tensor 至少为一维 Tensor\n",
    "- 从最后一个维度向前开始比较两个 Tensor 的形状，需要满足如下条件才能进行广播：两个 Tensor 的维度大小相等；或者其中一个 Tensor 的维度等于 1；或者其中一个 Tensor 的维度不存在"
   ]
  },
  {
   "cell_type": "code",
   "execution_count": 14,
   "id": "6fe8d715",
   "metadata": {},
   "outputs": [
    {
     "data": {
      "text/plain": [
       "Tensor(shape=[2, 3, 4, 5], dtype=float32, place=Place(cpu), stop_gradient=True,\n",
       "       [[[[2., 2., 2., 2., 2.],\n",
       "          [2., 2., 2., 2., 2.],\n",
       "          [2., 2., 2., 2., 2.],\n",
       "          [2., 2., 2., 2., 2.]],\n",
       "\n",
       "         [[2., 2., 2., 2., 2.],\n",
       "          [2., 2., 2., 2., 2.],\n",
       "          [2., 2., 2., 2., 2.],\n",
       "          [2., 2., 2., 2., 2.]],\n",
       "\n",
       "         [[2., 2., 2., 2., 2.],\n",
       "          [2., 2., 2., 2., 2.],\n",
       "          [2., 2., 2., 2., 2.],\n",
       "          [2., 2., 2., 2., 2.]]],\n",
       "\n",
       "\n",
       "        [[[2., 2., 2., 2., 2.],\n",
       "          [2., 2., 2., 2., 2.],\n",
       "          [2., 2., 2., 2., 2.],\n",
       "          [2., 2., 2., 2., 2.]],\n",
       "\n",
       "         [[2., 2., 2., 2., 2.],\n",
       "          [2., 2., 2., 2., 2.],\n",
       "          [2., 2., 2., 2., 2.],\n",
       "          [2., 2., 2., 2., 2.]],\n",
       "\n",
       "         [[2., 2., 2., 2., 2.],\n",
       "          [2., 2., 2., 2., 2.],\n",
       "          [2., 2., 2., 2., 2.],\n",
       "          [2., 2., 2., 2., 2.]]]])"
      ]
     },
     "execution_count": 14,
     "metadata": {},
     "output_type": "execute_result"
    }
   ],
   "source": [
    "x = paddle.ones((2, 3, 1, 5))\n",
    "y = paddle.ones((3, 4, 1))\n",
    "\n",
    "# 从最后一个维度向前依次比较：\n",
    "# 第一次：y 的维度大小是 1\n",
    "# 第二次：x 的维度大小是 1\n",
    "# 第三次：x 和 y 的维度大小相等\n",
    "# 第四次：y 的维度不存在\n",
    "# 所以 x 和 y 是可以广播的\n",
    "\n",
    "z = x + y\n",
    "\n",
    "z"
   ]
  },
  {
   "cell_type": "markdown",
   "id": "9eedc050",
   "metadata": {},
   "source": [
    "两个 Tensor 进行广播后的结果 Tensor 的形状计算规则如下:\n",
    "\n",
    "- 如果两个 Tensor 的形状的长度不一致，会在较小长度的形状矩阵前部添加 1，直到两个 Tensor 的形状长度相等\n",
    "- 保证两个 Tensor 形状相等之后，每个维度上的结果维度就是当前维度上的较大值"
   ]
  },
  {
   "cell_type": "code",
   "execution_count": 16,
   "id": "c704f75c",
   "metadata": {},
   "outputs": [
    {
     "data": {
      "text/plain": [
       "Tensor(shape=[2, 3, 4], dtype=float32, place=Place(cpu), stop_gradient=True,\n",
       "       [[[2., 2., 2., 2.],\n",
       "         [2., 2., 2., 2.],\n",
       "         [2., 2., 2., 2.]],\n",
       "\n",
       "        [[2., 2., 2., 2.],\n",
       "         [2., 2., 2., 2.],\n",
       "         [2., 2., 2., 2.]]])"
      ]
     },
     "execution_count": 16,
     "metadata": {},
     "output_type": "execute_result"
    }
   ],
   "source": [
    "x = paddle.ones((2, 1, 4))\n",
    "y = paddle.ones((3, 1))\n",
    "\n",
    "# y 的形状长度为 2，小于 x 的形状长度 3，因此会在 y 的形状前部添加 1，结果就是 y 的形状变为[1, 3, 1]\n",
    "# z 的形状: [2,3,4]，z 的每一维度上的尺寸，将取 x 和 y 对应维度上尺寸的较大值，\n",
    "# 如第 0 维 x 的尺寸为 2，y 的尺寸为 1，则 z 的第 0 维尺寸为 2\n",
    "z = x + y\n",
    "z"
   ]
  },
  {
   "attachments": {
    "image.png": {
     "image/png": "[encoded data removed]"
    }
   },
   "cell_type": "markdown",
   "id": "a8f71f27",
   "metadata": {},
   "source": [
    "![image.png](attachment:image.png)"
   ]
  }
 ],
 "metadata": {
  "kernelspec": {
   "display_name": "Python 3 (ipykernel)",
   "language": "python",
   "name": "python3"
  },
  "language_info": {
   "codemirror_mode": {
    "name": "ipython",
    "version": 3
   },
   "file_extension": ".py",
   "mimetype": "text/x-python",
   "name": "python",
   "nbconvert_exporter": "python",
   "pygments_lexer": "ipython3",
   "version": "3.11.4"
  }
 },
 "nbformat": 4,
 "nbformat_minor": 5
}
