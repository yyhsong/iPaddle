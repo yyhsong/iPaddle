{
 "cells": [
  {
   "cell_type": "code",
   "execution_count": 1,
   "id": "2e7eabae",
   "metadata": {},
   "outputs": [],
   "source": [
    "import numpy as np\n",
    "import paddle"
   ]
  },
  {
   "cell_type": "markdown",
   "id": "5c0bab35",
   "metadata": {},
   "source": [
    "## Tensor的操作"
   ]
  },
  {
   "cell_type": "code",
   "execution_count": 2,
   "id": "397b8155",
   "metadata": {},
   "outputs": [
    {
     "data": {
      "text/plain": [
       "array([[1, 2],\n",
       "       [4, 5]], dtype=int64)"
      ]
     },
     "execution_count": 2,
     "metadata": {},
     "output_type": "execute_result"
    }
   ],
   "source": [
    "\"\"\"通过索引和切片方式可访问和修改Tensor\n",
    "\n",
    "- 基于0-n的下标进行索引，如果下标为负数，则从尾部开始计算。\n",
    "- 通过冒号分割切片参数，start:stop:step 来进行切片操作。\n",
    "\"\"\"\n",
    "\n",
    "# 针对多维Tensor，则会有多个维度上的索引或切片\n",
    "t3 = paddle.to_tensor([[1, 2, 3], [4, 5, 6], [7, 8, 9]])\n",
    "\n",
    "t3[0:2, 0:2].numpy()  # 转换为numpy数组"
   ]
  }
 ],
 "metadata": {
  "kernelspec": {
   "display_name": "Python 3 (ipykernel)",
   "language": "python",
   "name": "python3"
  },
  "language_info": {
   "codemirror_mode": {
    "name": "ipython",
    "version": 3
   },
   "file_extension": ".py",
   "mimetype": "text/x-python",
   "name": "python",
   "nbconvert_exporter": "python",
   "pygments_lexer": "ipython3",
   "version": "3.11.4"
  }
 },
 "nbformat": 4,
 "nbformat_minor": 5
}
