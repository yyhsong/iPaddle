{
 "cells": [
  {
   "cell_type": "markdown",
   "id": "0823fb22",
   "metadata": {},
   "source": [
    "## 静态图模型的保存与加载\n",
    "\n",
    "在静态图模型中，对应模型结构的部分为可持久化的 Program，可以保存为磁盘文件（这点不同于动态图），模型参数与动态图类似，也是用 state_dict 获取，是个状态字典，key 为参数名，value 为参数真实的值。\n",
    "\n",
    "- 若仅需要保存/载入模型的参数用于训练调优场景，可以使用 paddle.save/paddle.load 结合静态图模型 Program 的 state_dict 达成目的。也支持保存整个模型，可以使用 paddle.save 将 Program 和state_dict 都保存下来。高层 API 兼容了动态图和静态图，因此Paddle.Model.save和Paddle.Model.load也兼容了动、静态图的保存和加载。\n",
    "- 若需保存推理模型用于模型部署场景，则可以通过 paddle.static.save_inference_model、paddle.static.load_inference_model实现。"
   ]
  },
  {
   "cell_type": "markdown",
   "id": "d5bfd3a3",
   "metadata": {},
   "source": [
    "### 训练调优场景"
   ]
  },
  {
   "cell_type": "code",
   "execution_count": 1,
   "id": "edf2c468",
   "metadata": {},
   "outputs": [],
   "source": [
    "import paddle\n",
    "import paddle.static as static\n",
    "\n",
    "# 开启静态图模式\n",
    "paddle.enable_static()\n",
    "\n",
    "# 创建输入数据和网络\n",
    "x = paddle.static.data(name=\"x\", shape=[None, 224], dtype='float32')\n",
    "z = paddle.static.nn.fc(x, 10)\n",
    "\n",
    "# 设置执行器开始训练\n",
    "place = paddle.CPUPlace()\n",
    "exe = paddle.static.Executor(place)\n",
    "exe.run(paddle.static.default_startup_program())\n",
    "prog = paddle.static.default_main_program()"
   ]
  },
  {
   "cell_type": "code",
   "execution_count": 2,
   "id": "91167442",
   "metadata": {},
   "outputs": [],
   "source": [
    "# 保存模型参数\n",
    "paddle.save(prog.state_dict(), '../models/static_model.pdparams')"
   ]
  },
  {
   "cell_type": "code",
   "execution_count": 3,
   "id": "c1f53d37",
   "metadata": {},
   "outputs": [],
   "source": [
    "# 保存模型结构\n",
    "paddle.save(prog, '../models/static_model.pdmodel')"
   ]
  },
  {
   "cell_type": "code",
   "execution_count": 5,
   "id": "86a68fe8",
   "metadata": {},
   "outputs": [],
   "source": [
    "# 载入模型结构\n",
    "# 如果只保存了模型参数，则可以跳过该步骤\n",
    "prog = paddle.load('../models/static_model.pdmodel')"
   ]
  },
  {
   "cell_type": "code",
   "execution_count": 6,
   "id": "727ba523",
   "metadata": {},
   "outputs": [],
   "source": [
    "# 载入模型参数\n",
    "state_dict = paddle.load('../models/static_model.pdparams')\n",
    "\n",
    "# 将载入后的参数与模型关联\n",
    "prog.set_state_dict(state_dict)"
   ]
  },
  {
   "cell_type": "markdown",
   "id": "9d0a4ab2",
   "metadata": {},
   "source": [
    "### 推理部署场景"
   ]
  },
  {
   "cell_type": "code",
   "execution_count": 7,
   "id": "a2e97028",
   "metadata": {},
   "outputs": [
    {
     "data": {
      "text/plain": [
       "[]"
      ]
     },
     "execution_count": 7,
     "metadata": {},
     "output_type": "execute_result"
    }
   ],
   "source": [
    "import paddle\n",
    "import numpy as np\n",
    "\n",
    "# 开启静态图模式\n",
    "paddle.enable_static()\n",
    "\n",
    "# 创建输入数据和网络\n",
    "startup_prog = paddle.static.default_startup_program()\n",
    "main_prog = paddle.static.default_main_program()\n",
    "\n",
    "with paddle.static.program_guard(main_prog, startup_prog):\n",
    "    image = paddle.static.data(name=\"img\", shape=[64, 784])\n",
    "    w = paddle.create_parameter(shape=[784, 200], dtype='float32')\n",
    "    b = paddle.create_parameter(shape=[200], dtype='float32')\n",
    "    hidden_w = paddle.matmul(x=image, y=w)\n",
    "    hidden_b = paddle.add(hidden_w, b)\n",
    "\n",
    "# 设置执行器开始训练\n",
    "exe = paddle.static.Executor(paddle.CPUPlace())\n",
    "exe.run(startup_prog)"
   ]
  },
  {
   "cell_type": "code",
   "execution_count": 8,
   "id": "3078e3ab",
   "metadata": {},
   "outputs": [],
   "source": [
    "\"\"\" 保存静态图推理模型\n",
    "\n",
    "保存静态图推理模型需要指定导出路径、输入、输出变量以及执行器\n",
    "paddle.static.save_inference_model 会裁剪 Program 的冗余部分，并导出两个文件： path_prefix.pdmodel、path_prefix.pdiparams\n",
    "\"\"\"\n",
    "\n",
    "path_prefix = '../models/static_infer'\n",
    "paddle.static.save_inference_model(path_prefix, [image], [hidden_b], exe)"
   ]
  },
  {
   "cell_type": "code",
   "execution_count": 9,
   "id": "419ba951",
   "metadata": {},
   "outputs": [],
   "source": [
    "\"\"\"载入静态图推理模型\n",
    "\n",
    "输入给 paddle.static.load_inference_model 的路径必须与 save_inference_model 的一致\n",
    "\"\"\"\n",
    "\n",
    "# 载入静态图推理模型\n",
    "[inference_program, feed_target_names, fetch_targets] = (\n",
    "    paddle.static.load_inference_model(path_prefix, exe))\n",
    "\n",
    "tensor_img = np.array(np.random.random((64, 784)), dtype=np.float32)\n",
    "\n",
    "results = exe.run(inference_program,\n",
    "                feed={feed_target_names[0]: tensor_img},\n",
    "                fetch_list=fetch_targets)"
   ]
  },
  {
   "cell_type": "markdown",
   "id": "3881f51a",
   "metadata": {},
   "source": [
    "## 总结\n",
    "\n",
    "飞桨框架同时支持动态图和静态图，优先推荐使用动态图训练，兼容支持静态图\n",
    "\n",
    "- 训练调优场景\n",
    "  - 动态图和静态图均使用 paddle.save 和 paddle.load 保存和加载模型参数\n",
    "  - 或者在高层 API 训练场景下使用 paddle.Model.save 和 paddle.Model.load\n",
    "- 推理部署场景\n",
    "  - 动态图模型需先转为静态图模型再保存，使用 paddle.jit.save和paddle.jit.load保存和加载模型结构和参数\n",
    "  - 静态图模型直接使用 paddle.static.save_inference_model和paddle.static.load_inference_model保存和加载模型结构和参数"
   ]
  }
 ],
 "metadata": {
  "kernelspec": {
   "display_name": "Python 3 (ipykernel)",
   "language": "python",
   "name": "python3"
  },
  "language_info": {
   "codemirror_mode": {
    "name": "ipython",
    "version": 3
   },
   "file_extension": ".py",
   "mimetype": "text/x-python",
   "name": "python",
   "nbconvert_exporter": "python",
   "pygments_lexer": "ipython3",
   "version": "3.11.4"
  }
 },
 "nbformat": 4,
 "nbformat_minor": 5
}
