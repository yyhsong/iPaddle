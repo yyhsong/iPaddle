{
 "cells": [
  {
   "cell_type": "markdown",
   "id": "2525cf82",
   "metadata": {},
   "source": [
    "# 模型训练、评估与推理\n",
    "\n",
    "- 模型训练：训练包括多轮迭代（epoch），每轮迭代遍历一次训练数据集，并且每次从中获取一小批（mini-batch）样本，送入模型执行前向计算得到预测值，并计算预测值（predict_label）与真实值（true_label）之间的损失函数值（loss）。执行梯度反向传播，并根据设置的优化算法（optimizer）更新模型的参数。观察每轮迭代的 loss 值减小趋势，可判断模型训练效果。\n",
    "- 模型评估：将测试数据集送入训练好的模型进行评估，得到预测值，计算预测值与真实值之间的损失函数值（loss），并计算评价指标值（metric），便于评估模型效果。\n",
    "- 模型推理：将待验证的数据（样本）送入训练好的模型执行推理，观察并验证推理结果（标签）是否符合预期。\n",
    "\n",
    "\n",
    "飞桨框架提供了两种训练、评估与推理的方法：\n",
    "- 使用飞桨高层 API：先用 paddle.Model 对模型进行封装，然后通过 Model.fit 、 Model.evaluate 、 Model.predict 等完成模型的训练、评估与推理。\n",
    "- 使用飞桨基础 API：提供了损失函数、优化器、评价指标、更新参数、反向传播等基础组件的实现，可以更灵活地应用到模型训练、评估与推理任务中，当然也可以很方便地自定义一些组件用于相关任务中。"
   ]
  },
  {
   "cell_type": "code",
   "execution_count": 1,
   "id": "a341c60e",
   "metadata": {},
   "outputs": [],
   "source": [
    "import paddle"
   ]
  },
  {
   "cell_type": "code",
   "execution_count": 2,
   "id": "2a3e1606",
   "metadata": {},
   "outputs": [],
   "source": [
    "# 加载数据集\n",
    "from paddle.vision.transforms import Normalize\n",
    "\n",
    "transform = Normalize(mean=[127.5], std=[127.5], data_format='CHW')\n",
    "\n",
    "train_dataset = paddle.vision.datasets.MNIST(mode='train', transform=transform)\n",
    "test_dataset = paddle.vision.datasets.MNIST(mode='test', transform=transform)"
   ]
  },
  {
   "cell_type": "code",
   "execution_count": 3,
   "id": "84c2a77f",
   "metadata": {},
   "outputs": [],
   "source": [
    "# 模型组网\n",
    "mnist = paddle.nn.Sequential(\n",
    "    paddle.nn.Flatten(1, -1),\n",
    "    paddle.nn.Linear(784, 512),\n",
    "    paddle.nn.ReLU(),\n",
    "    paddle.nn.Dropout(0, 2),\n",
    "    paddle.nn.Linear(512, 10)\n",
    ")"
   ]
  },
  {
   "cell_type": "markdown",
   "id": "38d75b5b",
   "metadata": {},
   "source": [
    "## 模型封装"
   ]
  },
  {
   "cell_type": "code",
   "execution_count": 4,
   "id": "62fa45c2",
   "metadata": {},
   "outputs": [],
   "source": [
    "# 封装模型为一个Model实例，便于进行后续的训练、评估与推理\n",
    "model = paddle.Model(mnist)"
   ]
  },
  {
   "cell_type": "markdown",
   "id": "dc8c1e44",
   "metadata": {},
   "source": [
    "## 配置训练准备参数\n",
    "\n",
    "- 优化器（optimizer）：即寻找最优解的方法，可计算和更新梯度，并根据梯度更新模型参数。飞桨框架在 paddle.optimizer 下提供了优化器相关 API。并且需要为优化器设置合适的学习率，或者指定合适的学习率策略，飞桨框架在 paddle.optimizer.lr 下提供了学习率策略相关的 API。\n",
    "- 损失函数（loss）：用于评估模型的预测值和真实值的差距，模型训练过程即取得尽可能小的 loss 的过程。飞桨框架在 paddle.nn Loss层 提供了适用不同深度学习任务的损失函数相关 API。\n",
    "- 评价指标（metrics）：用于评估模型的好坏，不同的任务通常有不同的评价指标。飞桨框架在 paddle.metric 下提供了评价指标相关 API。"
   ]
  },
  {
   "cell_type": "code",
   "execution_count": 5,
   "id": "eff2403a",
   "metadata": {},
   "outputs": [],
   "source": [
    "model.prepare(optimizer=paddle.optimizer.Adam(learning_rate=0.001, parameters=model.parameters()),  # 学习率\n",
    "             loss=paddle.nn.CrossEntropyLoss(),  # 交叉熵损失函数\n",
    "             metrics=paddle.metric.Accuracy())  # 准确率"
   ]
  },
  {
   "cell_type": "markdown",
   "id": "58c96d98",
   "metadata": {},
   "source": [
    "## 模型训练\n",
    "\n",
    "训练过程采用二层循环嵌套方式：\n",
    "- 内层循环完成整个数据集的一次遍历，采用分批次方式\n",
    "- 外层循环根据设置的训练轮次完成数据集的多次遍历，因此需要指定至少三个关键参数：训练数据集，训练轮次和每批次大小"
   ]
  },
  {
   "cell_type": "code",
   "execution_count": 9,
   "id": "69e63517",
   "metadata": {},
   "outputs": [
    {
     "name": "stdout",
     "output_type": "stream",
     "text": [
      "The loss value printed in the log is the current step, and the metric is the average value of previous steps.\n",
      "Epoch 1/5\n",
      "step 600/600 [==============================] - loss: 0.0247 - acc: 0.9881 - 5ms/step          \n",
      "Epoch 2/5\n",
      "step 600/600 [==============================] - loss: 0.0181 - acc: 0.9895 - 4ms/step          \n",
      "Epoch 3/5\n",
      "step 600/600 [==============================] - loss: 0.0328 - acc: 0.9898 - 4ms/step          \n",
      "Epoch 4/5\n",
      "step 600/600 [==============================] - loss: 0.0338 - acc: 0.9903 - 4ms/step          \n",
      "Epoch 5/5\n",
      "step 600/600 [==============================] - loss: 0.0332 - acc: 0.9903 - 4ms/step          \n"
     ]
    }
   ],
   "source": [
    "model.fit(train_dataset, epochs=5, batch_size=100, verbose=1)  # verbose指定日志格式"
   ]
  },
  {
   "cell_type": "markdown",
   "id": "b4201795",
   "metadata": {},
   "source": [
    "## 评估模型\n",
    "\n",
    "训练好模型后，可在事先定义好的验证数据集上，使用 Model.evaluate 接口完成模型评估操作，结束后根据在 Model.prepare 中定义的 loss 和 metric 计算并返回相关评估结果，返回格式是一个字典。"
   ]
  },
  {
   "cell_type": "code",
   "execution_count": 12,
   "id": "6d30eaec",
   "metadata": {
    "scrolled": true
   },
   "outputs": [
    {
     "name": "stdout",
     "output_type": "stream",
     "text": [
      "Eval begin...\n",
      "step 10000/10000 [==============================] - loss: 0.0000e+00 - acc: 0.9787 - 535us/step          \n",
      "Eval samples: 10000\n"
     ]
    },
    {
     "data": {
      "text/plain": [
       "{'loss': [0.0], 'acc': 0.9787}"
      ]
     },
     "execution_count": 12,
     "metadata": {},
     "output_type": "execute_result"
    }
   ],
   "source": [
    "eval_result = model.evaluate(test_dataset, verbose=1)\n",
    "\n",
    "eval_result"
   ]
  },
  {
   "cell_type": "markdown",
   "id": "05304e17",
   "metadata": {},
   "source": [
    "## 执行推理\n",
    "\n",
    "对训练好的模型进行推理验证，只需传入待执行推理验证的样本数据，即可计算并返回推理结果\n",
    "\n",
    "返回格式是一个列表：\n",
    "- 模型是单一输出：输出的形状为[1, n]，n表示数据集的样本数，每个列表元素是对应原始数据经过模型计算后得到的预测结果，类型为numpy数组。\n",
    "- 模型是多输出：输出的形状为[m, n]，m表示标签的种类数，在多标签分类任务中，m会根据标签的数目而定。"
   ]
  },
  {
   "cell_type": "code",
   "execution_count": 19,
   "id": "dbb25041",
   "metadata": {},
   "outputs": [
    {
     "name": "stdout",
     "output_type": "stream",
     "text": [
      "Predict begin...\n",
      "step 10000/10000 [==============================] - 644us/step          \n",
      "Predict samples: 10000\n",
      "1\n",
      "[[-13.735558    -2.1772842   -1.9931191   -0.32802913 -16.975414\n",
      "   -9.507339   -18.08655     18.227259    -7.0612817   -0.03320307]]\n"
     ]
    }
   ],
   "source": [
    "# 在测试数据集上执行推理\n",
    "pre_result = model.predict(test_dataset)\n",
    "\n",
    "# 这里是单一输出，形状为[1, 10000]，10000是测试数据集的数据量\n",
    "print(len(pre_result))\n",
    "\n",
    "# 第一个推理结果，这个数组表示每个数字的预测概率\n",
    "print(pre_result[0][0])"
   ]
  },
  {
   "cell_type": "code",
   "execution_count": 20,
   "id": "25ad9360",
   "metadata": {},
   "outputs": [
    {
     "data": {
      "text/plain": [
       "7"
      ]
     },
     "execution_count": 20,
     "metadata": {},
     "output_type": "execute_result"
    }
   ],
   "source": [
    "# 取出预测值中概率最高的一个的下标，做为预测标签\n",
    "pre_result[0][0].argmax()"
   ]
  }
 ],
 "metadata": {
  "kernelspec": {
   "display_name": "Python 3 (ipykernel)",
   "language": "python",
   "name": "python3"
  },
  "language_info": {
   "codemirror_mode": {
    "name": "ipython",
    "version": 3
   },
   "file_extension": ".py",
   "mimetype": "text/x-python",
   "name": "python",
   "nbconvert_exporter": "python",
   "pygments_lexer": "ipython3",
   "version": "3.11.4"
  }
 },
 "nbformat": 4,
 "nbformat_minor": 5
}
