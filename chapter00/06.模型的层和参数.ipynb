{
 "cells": [
  {
   "cell_type": "code",
   "execution_count": 4,
   "id": "375f01f6",
   "metadata": {},
   "outputs": [],
   "source": [
    "import paddle\n",
    "from paddle import nn"
   ]
  },
  {
   "attachments": {},
   "cell_type": "markdown",
   "id": "730828e8",
   "metadata": {},
   "source": [
    "# 模型的层 Layer\n",
    "\n",
    "模型组网中一个关键组成就是神经网络层，不同的神经网络层组合在一起，从输入的数据样本中习得数据内在规律，最终输出预测结果。\n",
    "\n",
    "每个层从前一层获得输入数据，然后输出结果作为下一层的输入，并且大多数层包含可调的参数，在反向传播梯度时更新参数。\n",
    "\n",
    "在飞桨框架中内置了丰富的神经网络层，用类（class）的方式表示，构建模型时可直接作为实例添加到子类中，只需设置一些必要的参数，并定义前向计算函数即可，反向传播和参数保存由框架自动完成。"
   ]
  },
  {
   "cell_type": "markdown",
   "id": "9b6a3e1e",
   "metadata": {},
   "source": [
    "## Conv2D\n",
    "\n",
    "- Conv2D （二维卷积层）主要用于对输入的特征图进行卷积操作，广泛用于深度学习网络中。\n",
    "- Conv2D 根据输入、卷积核、步长（stride）、填充（padding）、空洞大小（dilations）等参数计算输出特征层大小。\n",
    "- 输入和输出是 NCHW 或 NHWC 格式，其中 N 是 batchsize 大小，C 是通道数，H 是特征高度，W 是特征宽度。"
   ]
  },
  {
   "cell_type": "code",
   "execution_count": 6,
   "id": "4a253174",
   "metadata": {},
   "outputs": [
    {
     "data": {
      "text/plain": [
       "[2, 6, 3, 3]"
      ]
     },
     "execution_count": 6,
     "metadata": {},
     "output_type": "execute_result"
    }
   ],
   "source": [
    "x = paddle.uniform((2, 3, 8, 8), dtype='float32', min=-1., max=1.)\n",
    "\n",
    "conv = nn.Conv2D(3, 6, (3, 3), stride=2)  # 卷积层输入通道数为3，输出通道数为6，卷积核尺寸为3*3，步长为2\n",
    "\n",
    "y = conv(x)\n",
    "\n",
    "y.shape"
   ]
  },
  {
   "cell_type": "markdown",
   "id": "a7446a18",
   "metadata": {},
   "source": [
    "## ReLU\n",
    "\n",
    "- ReLU 是深度学习任务中常用的激活层，主要用于对输入进行非线性变换。\n",
    "- ReLU 将输入中小于 0 的部分变为 0，大于 0 的部分保持不变。"
   ]
  },
  {
   "cell_type": "code",
   "execution_count": 9,
   "id": "248a0b09",
   "metadata": {},
   "outputs": [
    {
     "data": {
      "text/plain": [
       "Tensor(shape=[3], dtype=float32, place=Place(cpu), stop_gradient=True,\n",
       "       [0., 0., 1.])"
      ]
     },
     "execution_count": 9,
     "metadata": {},
     "output_type": "execute_result"
    }
   ],
   "source": [
    "x = paddle.to_tensor([-2., 0., 1.])\n",
    "\n",
    "relu = nn.ReLU()\n",
    "\n",
    "y = relu(x)\n",
    "\n",
    "y"
   ]
  },
  {
   "cell_type": "markdown",
   "id": "8aca8644",
   "metadata": {},
   "source": [
    "## MaxPool2D\n",
    "\n",
    "MaxPool2D （二维最大池化层）主要用于缩小特征图大小，根据 kernel_size 参数指定的窗口大小，对窗口内特征图进行取最大值的操作。"
   ]
  },
  {
   "cell_type": "code",
   "execution_count": 8,
   "id": "940b7cb1",
   "metadata": {},
   "outputs": [
    {
     "data": {
      "text/plain": [
       "[2, 3, 3, 3]"
      ]
     },
     "execution_count": 8,
     "metadata": {},
     "output_type": "execute_result"
    }
   ],
   "source": [
    "x = paddle.uniform((2, 3, 8, 8), dtype='float32', min=-1., max=1.)\n",
    "\n",
    "pool = nn.MaxPool2D(3, stride=2)  # 池化核尺寸为3*3，步长为2\n",
    "\n",
    "y = pool(x)\n",
    "\n",
    "y.shape"
   ]
  },
  {
   "cell_type": "markdown",
   "id": "2732b42a",
   "metadata": {},
   "source": [
    "## Linear\n",
    "\n",
    "- Linear （全连接层）中每个神经元与上一层的所有神经元相连，实现对前一层的线性组合和线性变换。\n",
    "- 在卷积神经网络分类任务中，输出分类结果之前，通常采用全连接层对特征进行处理。"
   ]
  },
  {
   "cell_type": "code",
   "execution_count": 10,
   "id": "86887ae5",
   "metadata": {},
   "outputs": [
    {
     "data": {
      "text/plain": [
       "Tensor(shape=[2, 4], dtype=float32, place=Place(cpu), stop_gradient=False,\n",
       "       [[-0.92500949,  0.94764745, -0.31905752,  0.21788941],\n",
       "        [ 0.62620598, -0.56124514,  0.62168980, -0.66636854]])"
      ]
     },
     "execution_count": 10,
     "metadata": {},
     "output_type": "execute_result"
    }
   ],
   "source": [
    "x = paddle.uniform((2, 6), dtype='float32', min=-1., max=1.)\n",
    "\n",
    "linear = nn.Linear(6, 4)\n",
    "\n",
    "y = linear(x)\n",
    "\n",
    "y"
   ]
  },
  {
   "cell_type": "markdown",
   "id": "3c76d357",
   "metadata": {},
   "source": [
    "# 模型的参数\n",
    "\n",
    "可通过网络的 parameters() 和 named_parameters() 方法获取网络在训练期间优化的所有参数（权重 weight 和偏置 bias），\n",
    "通过这些方法可以实现对网络更加精细化的控制，如设置某些层的参数不更新。"
   ]
  },
  {
   "cell_type": "code",
   "execution_count": 12,
   "id": "2ae9333a",
   "metadata": {
    "scrolled": true
   },
   "outputs": [
    {
     "name": "stdout",
     "output_type": "stream",
     "text": [
      "---------------------------------------------------------------------------\n",
      " Layer (type)       Input Shape          Output Shape         Param #    \n",
      "===========================================================================\n",
      "   Conv2D-5       [[1, 1, 28, 28]]      [1, 6, 28, 28]          60       \n",
      "    ReLU-4        [[1, 6, 28, 28]]      [1, 6, 28, 28]           0       \n",
      "  MaxPool2D-5     [[1, 6, 28, 28]]      [1, 6, 14, 14]           0       \n",
      "   Conv2D-6       [[1, 6, 14, 14]]     [1, 16, 10, 10]         2,416     \n",
      "    ReLU-5       [[1, 16, 10, 10]]     [1, 16, 10, 10]           0       \n",
      "  MaxPool2D-6    [[1, 16, 10, 10]]      [1, 16, 5, 5]            0       \n",
      "   Linear-5          [[1, 400]]            [1, 120]           48,120     \n",
      "   Linear-6          [[1, 120]]            [1, 84]            10,164     \n",
      "   Linear-7          [[1, 84]]             [1, 10]              850      \n",
      "===========================================================================\n",
      "Total params: 61,610\n",
      "Trainable params: 61,610\n",
      "Non-trainable params: 0\n",
      "---------------------------------------------------------------------------\n",
      "Input size (MB): 0.00\n",
      "Forward/backward pass size (MB): 0.11\n",
      "Params size (MB): 0.24\n",
      "Estimated Total Size (MB): 0.35\n",
      "---------------------------------------------------------------------------\n",
      "\n"
     ]
    },
    {
     "data": {
      "text/plain": [
       "{'total_params': 61610, 'trainable_params': 61610}"
      ]
     },
     "execution_count": 12,
     "metadata": {},
     "output_type": "execute_result"
    }
   ],
   "source": [
    "lenet = paddle.vision.models.LeNet(num_classes=10)\n",
    "\n",
    "paddle.summary(lenet, (1, 1, 28, 28))"
   ]
  },
  {
   "cell_type": "code",
   "execution_count": 16,
   "id": "3a60ba0b",
   "metadata": {},
   "outputs": [
    {
     "name": "stdout",
     "output_type": "stream",
     "text": [
      "Param: features.0.weight, Size: [6, 1, 3, 3]\n",
      "Param: features.0.bias, Size: [6]\n",
      "Param: features.3.weight, Size: [16, 6, 5, 5]\n",
      "Param: features.3.bias, Size: [16]\n",
      "Param: fc.0.weight, Size: [400, 120]\n",
      "Param: fc.0.bias, Size: [120]\n",
      "Param: fc.1.weight, Size: [120, 84]\n",
      "Param: fc.1.bias, Size: [84]\n",
      "Param: fc.2.weight, Size: [84, 10]\n",
      "Param: fc.2.bias, Size: [10]\n"
     ]
    }
   ],
   "source": [
    "# 查看参数的名字和形状\n",
    "for name, param in lenet.named_parameters():\n",
    "     print('Param: {}, Size: {}'.format(name, param.shape))"
   ]
  }
 ],
 "metadata": {
  "kernelspec": {
   "display_name": "Python 3 (ipykernel)",
   "language": "python",
   "name": "python3"
  },
  "language_info": {
   "codemirror_mode": {
    "name": "ipython",
    "version": 3
   },
   "file_extension": ".py",
   "mimetype": "text/x-python",
   "name": "python",
   "nbconvert_exporter": "python",
   "pygments_lexer": "ipython3",
   "version": "3.9.13"
  }
 },
 "nbformat": 4,
 "nbformat_minor": 5
}
