{
 "cells": [
  {
   "cell_type": "markdown",
   "metadata": {},
   "source": [
    "## 使用PaddleX API实现化妆品分类"
   ]
  },
  {
   "cell_type": "code",
   "execution_count": 2,
   "metadata": {},
   "outputs": [
    {
     "name": "stdout",
     "output_type": "stream",
     "text": [
      "[WARNING] pycocotools is not installed, detection model is not available now.\n",
      "[WARNING] pycocotools install: https://paddlex.readthedocs.io/zh_CN/develop/install.html#pycocotools\n"
     ]
    }
   ],
   "source": [
    "import paddlex as pdx\n",
    "\n",
    "import os\n",
    "# os.environ['CUDA_VISIBLE_DEVICES'] = '0' # 设置使用0号GPU卡（如无GPU，执行此代码后仍然会使用CPU训练模型）\n",
    "os.environ['CPU_NUM'] = '4'\n",
    "\n",
    "import matplotlib\n",
    "matplotlib.use('Agg')"
   ]
  },
  {
   "cell_type": "code",
   "execution_count": 4,
   "metadata": {},
   "outputs": [],
   "source": [
    "\"\"\"定义图像处理流程transforms\n",
    "\n",
    "定义训练和验证过程中的图像处理流程，其中训练过程包括一些数据增强操作\n",
    "\"\"\"\n",
    "\n",
    "from paddlex.cls import transforms\n",
    "\n",
    "train_transforms = transforms.Compose([\n",
    "    transforms.RandomCrop(crop_size=224),\n",
    "    transforms.RandomHorizontalFlip(),\n",
    "    transforms.Normalize()\n",
    "])\n",
    "\n",
    "eval_transforms = transforms.Compose([\n",
    "    transforms.ResizeByShort(short_size=256),\n",
    "    transforms.CenterCrop(crop_size=224),\n",
    "    transforms.Normalize()\n",
    "])"
   ]
  },
  {
   "cell_type": "code",
   "execution_count": 5,
   "metadata": {},
   "outputs": [
    {
     "name": "stdout",
     "output_type": "stream",
     "text": [
      "2023-01-13 16:50:53 [INFO]\tStarting to read file list from dataset...\n",
      "2023-01-13 16:50:53 [INFO]\t710 samples in file makeup/train_list.txt\n",
      "2023-01-13 16:50:53 [INFO]\tStarting to read file list from dataset...\n",
      "2023-01-13 16:50:53 [INFO]\t132 samples in file makeup/val_list.txt\n"
     ]
    }
   ],
   "source": [
    "\"\"\"定义数据集Dataset\n",
    "\n",
    "使用PaddleX内置的数据集读取器读取训练和验证数据集，并应用配置的图像处理流程\n",
    "本示例采用ImageNet数据集格式，因此采用paddlex.datasets.ImageNet来加载数据集\n",
    "\"\"\"\n",
    "\n",
    "train_dataset = pdx.datasets.ImageNet(\n",
    "    data_dir='makeup',\n",
    "    file_list='makeup/train_list.txt',\n",
    "    label_list='makeup/labels.txt',\n",
    "    transforms=train_transforms,\n",
    "    shuffle=True\n",
    ")\n",
    "\n",
    "eval_dataset = pdx.datasets.ImageNet(\n",
    "    data_dir='makeup',\n",
    "    file_list='makeup/val_list.txt',\n",
    "    label_list='makeup/labels.txt',\n",
    "    transforms=eval_transforms\n",
    ")"
   ]
  },
  {
   "cell_type": "code",
   "execution_count": 6,
   "metadata": {},
   "outputs": [],
   "source": [
    "\"\"\"训练模型\n",
    "\n",
    "本示例使用MobileNetV3_large_ssld分类模型\n",
    "\"\"\"\n",
    "\n",
    "num_classes = len(train_dataset.labels)\n",
    "model = pdx.cls.MobileNetV3_large_ssld(num_classes=num_classes)"
   ]
  },
  {
   "cell_type": "code",
   "execution_count": 7,
   "metadata": {},
   "outputs": [
    {
     "name": "stderr",
     "output_type": "stream",
     "text": [
      "D:\\Installation\\Anaconda\\lib\\site-packages\\paddle\\fluid\\layers\\math_op_patch.py:336: UserWarning: D:\\Installation\\Anaconda\\lib\\site-packages\\paddlex\\cv\\nets\\mobilenet_v3.py:231\n",
      "The behavior of expression A * B has been unified with elementwise_mul(X, Y, axis=-1) from Paddle 2.0. If your code works well in the older versions but crashes in this version, try to use elementwise_mul(X, Y, axis=0) instead of A * B. This transitional warning will be dropped in the future.\n",
      "  warnings.warn(\n"
     ]
    },
    {
     "name": "stdout",
     "output_type": "stream",
     "text": [
      "2023-01-13 16:51:19 [INFO]\tDownloading MobileNetV3_large_x1_0_ssld_pretrained.tar from https://paddle-imagenet-models-name.bj.bcebos.com/MobileNetV3_large_x1_0_ssld_pretrained.tar\n"
     ]
    },
    {
     "name": "stderr",
     "output_type": "stream",
     "text": [
      "100%|██████████| 21717/21717 [00:07<00:00, 2880.07KB/s]\n"
     ]
    },
    {
     "name": "stdout",
     "output_type": "stream",
     "text": [
      "2023-01-13 16:51:27 [INFO]\tDecompressing output/mobilenetv3_large_ssld\\pretrain\\MobileNetV3_large_x1_0_ssld_pretrained.tar...\n",
      "2023-01-13 16:51:29 [INFO]\tLoad pretrain weights from output/mobilenetv3_large_ssld\\pretrain\\MobileNetV3_large_x1_0_ssld_pretrained.\n",
      "2023-01-13 16:51:29 [WARNING]\t[SKIP] Shape of pretrained weight output/mobilenetv3_large_ssld\\pretrain\\MobileNetV3_large_x1_0_ssld_pretrained/fc_weights doesn't match.(Pretrained: (1280, 1000), Actual: (1280, 7))\n",
      "2023-01-13 16:51:29 [WARNING]\t[SKIP] Shape of pretrained weight output/mobilenetv3_large_ssld\\pretrain\\MobileNetV3_large_x1_0_ssld_pretrained/fc_offset doesn't match.(Pretrained: (1000,), Actual: (7,))\n",
      "2023-01-13 16:51:30 [INFO]\tThere are 268 varaibles in output/mobilenetv3_large_ssld\\pretrain\\MobileNetV3_large_x1_0_ssld_pretrained are loaded.\n",
      "2023-01-13 16:51:47 [INFO]\t[TRAIN] Epoch=1/10, Step=2/22, loss=1.853426, acc1=0.3125, acc5=0.875, lr=0.025, time_each_step=8.49s, eta=0:37:56\n",
      "2023-01-13 16:51:57 [INFO]\t[TRAIN] Epoch=1/10, Step=4/22, loss=1.574942, acc1=0.46875, acc5=0.9375, lr=0.025, time_each_step=6.7s, eta=0:29:41\n",
      "2023-01-13 16:52:06 [INFO]\t[TRAIN] Epoch=1/10, Step=6/22, loss=1.71753, acc1=0.46875, acc5=0.875, lr=0.025, time_each_step=5.97s, eta=0:26:16\n",
      "2023-01-13 16:52:16 [INFO]\t[TRAIN] Epoch=1/10, Step=8/22, loss=1.133836, acc1=0.59375, acc5=1.0, lr=0.025, time_each_step=5.74s, eta=0:25:3\n",
      "2023-01-13 16:52:26 [INFO]\t[TRAIN] Epoch=1/10, Step=10/22, loss=1.366107, acc1=0.65625, acc5=0.96875, lr=0.025, time_each_step=5.54s, eta=0:24:0\n",
      "2023-01-13 16:52:35 [INFO]\t[TRAIN] Epoch=1/10, Step=12/22, loss=1.147754, acc1=0.65625, acc5=0.96875, lr=0.025, time_each_step=5.35s, eta=0:23:1\n",
      "2023-01-13 16:52:44 [INFO]\t[TRAIN] Epoch=1/10, Step=14/22, loss=0.822333, acc1=0.71875, acc5=1.0, lr=0.025, time_each_step=5.28s, eta=0:22:30\n",
      "2023-01-13 16:52:53 [INFO]\t[TRAIN] Epoch=1/10, Step=16/22, loss=1.314734, acc1=0.59375, acc5=0.96875, lr=0.025, time_each_step=5.18s, eta=0:21:56\n",
      "2023-01-13 16:53:03 [INFO]\t[TRAIN] Epoch=1/10, Step=18/22, loss=0.815184, acc1=0.6875, acc5=1.0, lr=0.025, time_each_step=5.13s, eta=0:21:33\n",
      "2023-01-13 16:53:12 [INFO]\t[TRAIN] Epoch=1/10, Step=20/22, loss=1.162922, acc1=0.59375, acc5=1.0, lr=0.025, time_each_step=5.07s, eta=0:21:8\n",
      "2023-01-13 16:53:21 [INFO]\t[TRAIN] Epoch=1/10, Step=22/22, loss=0.671002, acc1=0.71875, acc5=1.0, lr=0.025, time_each_step=4.69s, eta=0:19:22\n",
      "2023-01-13 16:53:21 [INFO]\t[TRAIN] Epoch 1 finished, loss=1.283467, acc1=0.556818, acc5=0.951705, lr=0.025 .\n",
      "2023-01-13 16:53:21 [INFO]\tStart to evaluating(total_samples=132, total_steps=5)...\n"
     ]
    },
    {
     "name": "stderr",
     "output_type": "stream",
     "text": [
      "  0%|          | 0/5 [00:00<?, ?it/s]share_vars_from is set, scope is ignored.\n",
      "100%|██████████| 5/5 [00:08<00:00,  1.75s/it]\n"
     ]
    },
    {
     "name": "stdout",
     "output_type": "stream",
     "text": [
      "2023-01-13 16:53:30 [INFO]\t[EVAL] Finished, Epoch=1, acc1=0.765152, acc5=1.0 .\n",
      "2023-01-13 16:53:30 [INFO]\tModel saved in output/mobilenetv3_large_ssld\\best_model.\n",
      "2023-01-13 16:53:31 [INFO]\tModel saved in output/mobilenetv3_large_ssld\\epoch_1.\n",
      "2023-01-13 16:53:31 [INFO]\tCurrent evaluated best model in eval_dataset is epoch_1, acc1=0.7651515151515151\n",
      "2023-01-13 16:53:44 [INFO]\t[TRAIN] Epoch=2/10, Step=2/22, loss=0.604781, acc1=0.75, acc5=1.0, lr=0.025, time_each_step=4.86s, eta=0:17:48\n",
      "2023-01-13 16:53:54 [INFO]\t[TRAIN] Epoch=2/10, Step=4/22, loss=0.966869, acc1=0.75, acc5=0.96875, lr=0.025, time_each_step=4.89s, eta=0:17:39\n",
      "2023-01-13 16:54:03 [INFO]\t[TRAIN] Epoch=2/10, Step=6/22, loss=0.84806, acc1=0.78125, acc5=0.96875, lr=0.025, time_each_step=4.86s, eta=0:17:29\n",
      "2023-01-13 16:54:12 [INFO]\t[TRAIN] Epoch=2/10, Step=8/22, loss=1.254144, acc1=0.5625, acc5=1.0, lr=0.025, time_each_step=4.83s, eta=0:17:19\n",
      "2023-01-13 16:54:21 [INFO]\t[TRAIN] Epoch=2/10, Step=10/22, loss=1.188111, acc1=0.5625, acc5=1.0, lr=0.025, time_each_step=4.86s, eta=0:17:9\n",
      "2023-01-13 16:54:30 [INFO]\t[TRAIN] Epoch=2/10, Step=12/22, loss=0.87024, acc1=0.65625, acc5=1.0, lr=0.025, time_each_step=4.83s, eta=0:16:59\n",
      "2023-01-13 16:54:40 [INFO]\t[TRAIN] Epoch=2/10, Step=14/22, loss=0.476942, acc1=0.8125, acc5=1.0, lr=0.025, time_each_step=4.85s, eta=0:16:50\n",
      "2023-01-13 16:54:49 [INFO]\t[TRAIN] Epoch=2/10, Step=16/22, loss=1.258292, acc1=0.6875, acc5=1.0, lr=0.025, time_each_step=4.85s, eta=0:16:40\n",
      "2023-01-13 16:54:58 [INFO]\t[TRAIN] Epoch=2/10, Step=18/22, loss=0.735924, acc1=0.75, acc5=1.0, lr=0.025, time_each_step=4.84s, eta=0:16:30\n",
      "2023-01-13 16:55:08 [INFO]\t[TRAIN] Epoch=2/10, Step=20/22, loss=0.465444, acc1=0.84375, acc5=1.0, lr=0.025, time_each_step=4.85s, eta=0:16:21\n",
      "2023-01-13 16:55:17 [INFO]\t[TRAIN] Epoch=2/10, Step=22/22, loss=0.55394, acc1=0.84375, acc5=1.0, lr=0.025, time_each_step=4.63s, eta=0:16:11\n",
      "2023-01-13 16:55:17 [INFO]\t[TRAIN] Epoch 2 finished, loss=0.968209, acc1=0.696023, acc5=0.988636, lr=0.025 .\n",
      "2023-01-13 16:55:17 [INFO]\tStart to evaluating(total_samples=132, total_steps=5)...\n"
     ]
    },
    {
     "name": "stderr",
     "output_type": "stream",
     "text": [
      "100%|██████████| 5/5 [00:08<00:00,  1.72s/it]\n"
     ]
    },
    {
     "name": "stdout",
     "output_type": "stream",
     "text": [
      "2023-01-13 16:55:25 [INFO]\t[EVAL] Finished, Epoch=2, acc1=0.742424, acc5=0.992424 .\n",
      "2023-01-13 16:55:26 [INFO]\tModel saved in output/mobilenetv3_large_ssld\\epoch_2.\n",
      "2023-01-13 16:55:26 [INFO]\tCurrent evaluated best model in eval_dataset is epoch_1, acc1=0.7651515151515151\n",
      "2023-01-13 16:55:40 [INFO]\t[TRAIN] Epoch=3/10, Step=2/22, loss=0.629517, acc1=0.78125, acc5=1.0, lr=0.025, time_each_step=4.88s, eta=0:15:10\n",
      "2023-01-13 16:55:50 [INFO]\t[TRAIN] Epoch=3/10, Step=4/22, loss=0.447798, acc1=0.875, acc5=1.0, lr=0.025, time_each_step=4.87s, eta=0:15:0\n",
      "2023-01-13 16:55:59 [INFO]\t[TRAIN] Epoch=3/10, Step=6/22, loss=0.561276, acc1=0.8125, acc5=1.0, lr=0.025, time_each_step=4.91s, eta=0:14:51\n",
      "2023-01-13 16:56:08 [INFO]\t[TRAIN] Epoch=3/10, Step=8/22, loss=0.631645, acc1=0.75, acc5=1.0, lr=0.025, time_each_step=4.9s, eta=0:14:41\n",
      "2023-01-13 16:56:18 [INFO]\t[TRAIN] Epoch=3/10, Step=10/22, loss=0.960627, acc1=0.59375, acc5=0.96875, lr=0.025, time_each_step=4.92s, eta=0:14:31\n",
      "2023-01-13 16:56:27 [INFO]\t[TRAIN] Epoch=3/10, Step=12/22, loss=0.788484, acc1=0.6875, acc5=1.0, lr=0.025, time_each_step=4.92s, eta=0:14:21\n",
      "2023-01-13 16:56:36 [INFO]\t[TRAIN] Epoch=3/10, Step=14/22, loss=0.791342, acc1=0.6875, acc5=0.9375, lr=0.025, time_each_step=4.9s, eta=0:14:11\n",
      "2023-01-13 16:56:46 [INFO]\t[TRAIN] Epoch=3/10, Step=16/22, loss=0.757703, acc1=0.75, acc5=0.96875, lr=0.025, time_each_step=4.93s, eta=0:14:2\n",
      "2023-01-13 16:56:55 [INFO]\t[TRAIN] Epoch=3/10, Step=18/22, loss=0.58806, acc1=0.71875, acc5=1.0, lr=0.025, time_each_step=4.9s, eta=0:13:52\n",
      "2023-01-13 16:57:04 [INFO]\t[TRAIN] Epoch=3/10, Step=20/22, loss=0.772267, acc1=0.78125, acc5=0.96875, lr=0.025, time_each_step=4.94s, eta=0:13:42\n",
      "2023-01-13 16:57:14 [INFO]\t[TRAIN] Epoch=3/10, Step=22/22, loss=0.735468, acc1=0.75, acc5=1.0, lr=0.025, time_each_step=4.68s, eta=0:13:32\n",
      "2023-01-13 16:57:14 [INFO]\t[TRAIN] Epoch 3 finished, loss=0.721843, acc1=0.738636, acc5=0.985795, lr=0.025 .\n",
      "2023-01-13 16:57:14 [INFO]\tStart to evaluating(total_samples=132, total_steps=5)...\n"
     ]
    },
    {
     "name": "stderr",
     "output_type": "stream",
     "text": [
      "100%|██████████| 5/5 [00:07<00:00,  1.56s/it]\n"
     ]
    },
    {
     "name": "stdout",
     "output_type": "stream",
     "text": [
      "2023-01-13 16:57:22 [INFO]\t[EVAL] Finished, Epoch=3, acc1=0.712121, acc5=0.984848 .\n",
      "2023-01-13 16:57:22 [INFO]\tModel saved in output/mobilenetv3_large_ssld\\epoch_3.\n",
      "2023-01-13 16:57:22 [INFO]\tCurrent evaluated best model in eval_dataset is epoch_1, acc1=0.7651515151515151\n",
      "2023-01-13 16:57:35 [INFO]\t[TRAIN] Epoch=4/10, Step=2/22, loss=0.46397, acc1=0.8125, acc5=1.0, lr=0.025, time_each_step=4.88s, eta=0:13:23\n",
      "2023-01-13 16:57:45 [INFO]\t[TRAIN] Epoch=4/10, Step=4/22, loss=0.770056, acc1=0.6875, acc5=1.0, lr=0.025, time_each_step=4.87s, eta=0:13:13\n",
      "2023-01-13 16:57:54 [INFO]\t[TRAIN] Epoch=4/10, Step=6/22, loss=1.139866, acc1=0.53125, acc5=0.96875, lr=0.025, time_each_step=4.87s, eta=0:13:3\n",
      "2023-01-13 16:58:03 [INFO]\t[TRAIN] Epoch=4/10, Step=8/22, loss=1.072632, acc1=0.71875, acc5=1.0, lr=0.025, time_each_step=4.88s, eta=0:12:54\n",
      "2023-01-13 16:58:12 [INFO]\t[TRAIN] Epoch=4/10, Step=10/22, loss=0.664281, acc1=0.78125, acc5=1.0, lr=0.025, time_each_step=4.84s, eta=0:12:43\n",
      "2023-01-13 16:58:22 [INFO]\t[TRAIN] Epoch=4/10, Step=12/22, loss=1.446635, acc1=0.53125, acc5=0.9375, lr=0.025, time_each_step=4.86s, eta=0:12:34\n",
      "2023-01-13 16:58:31 [INFO]\t[TRAIN] Epoch=4/10, Step=14/22, loss=0.729819, acc1=0.75, acc5=1.0, lr=0.025, time_each_step=4.83s, eta=0:12:24\n",
      "2023-01-13 16:58:40 [INFO]\t[TRAIN] Epoch=4/10, Step=16/22, loss=1.088203, acc1=0.625, acc5=1.0, lr=0.025, time_each_step=4.86s, eta=0:12:15\n",
      "2023-01-13 16:58:50 [INFO]\t[TRAIN] Epoch=4/10, Step=18/22, loss=0.639202, acc1=0.6875, acc5=1.0, lr=0.025, time_each_step=4.86s, eta=0:12:5\n",
      "2023-01-13 16:58:59 [INFO]\t[TRAIN] Epoch=4/10, Step=20/22, loss=0.639867, acc1=0.8125, acc5=1.0, lr=0.025, time_each_step=4.83s, eta=0:11:55\n",
      "2023-01-13 16:59:08 [INFO]\t[TRAIN] Epoch=4/10, Step=22/22, loss=0.748601, acc1=0.71875, acc5=1.0, lr=0.025, time_each_step=4.63s, eta=0:11:45\n",
      "2023-01-13 16:59:08 [INFO]\t[TRAIN] Epoch 4 finished, loss=0.745701, acc1=0.747159, acc5=0.994318, lr=0.025 .\n",
      "2023-01-13 16:59:08 [INFO]\tStart to evaluating(total_samples=132, total_steps=5)...\n"
     ]
    },
    {
     "name": "stderr",
     "output_type": "stream",
     "text": [
      "100%|██████████| 5/5 [00:07<00:00,  1.59s/it]\n"
     ]
    },
    {
     "name": "stdout",
     "output_type": "stream",
     "text": [
      "2023-01-13 16:59:16 [INFO]\t[EVAL] Finished, Epoch=4, acc1=0.772727, acc5=1.0 .\n",
      "2023-01-13 16:59:16 [INFO]\tModel saved in output/mobilenetv3_large_ssld\\best_model.\n",
      "2023-01-13 16:59:16 [INFO]\tModel saved in output/mobilenetv3_large_ssld\\epoch_4.\n",
      "2023-01-13 16:59:16 [INFO]\tCurrent evaluated best model in eval_dataset is epoch_4, acc1=0.7727272727272727\n",
      "2023-01-13 16:59:31 [INFO]\t[TRAIN] Epoch=5/10, Step=2/22, loss=0.513963, acc1=0.84375, acc5=1.0, lr=0.0025, time_each_step=4.89s, eta=0:11:19\n",
      "2023-01-13 16:59:41 [INFO]\t[TRAIN] Epoch=5/10, Step=4/22, loss=0.419678, acc1=0.8125, acc5=1.0, lr=0.0025, time_each_step=4.94s, eta=0:11:10\n",
      "2023-01-13 16:59:51 [INFO]\t[TRAIN] Epoch=5/10, Step=6/22, loss=0.27964, acc1=0.84375, acc5=1.0, lr=0.0025, time_each_step=4.92s, eta=0:11:0\n",
      "2023-01-13 17:00:01 [INFO]\t[TRAIN] Epoch=5/10, Step=8/22, loss=0.458136, acc1=0.875, acc5=1.0, lr=0.0025, time_each_step=5.0s, eta=0:10:51\n",
      "2023-01-13 17:00:11 [INFO]\t[TRAIN] Epoch=5/10, Step=10/22, loss=0.539186, acc1=0.8125, acc5=1.0, lr=0.0025, time_each_step=5.02s, eta=0:10:41\n",
      "2023-01-13 17:00:19 [INFO]\t[TRAIN] Epoch=5/10, Step=12/22, loss=0.689743, acc1=0.84375, acc5=1.0, lr=0.0025, time_each_step=5.02s, eta=0:10:31\n",
      "2023-01-13 17:00:29 [INFO]\t[TRAIN] Epoch=5/10, Step=14/22, loss=0.235938, acc1=0.90625, acc5=1.0, lr=0.0025, time_each_step=5.03s, eta=0:10:21\n",
      "2023-01-13 17:00:38 [INFO]\t[TRAIN] Epoch=5/10, Step=16/22, loss=0.43062, acc1=0.875, acc5=1.0, lr=0.0025, time_each_step=5.0s, eta=0:10:11\n",
      "2023-01-13 17:00:48 [INFO]\t[TRAIN] Epoch=5/10, Step=18/22, loss=0.516136, acc1=0.78125, acc5=1.0, lr=0.0025, time_each_step=5.03s, eta=0:10:1\n",
      "2023-01-13 17:00:57 [INFO]\t[TRAIN] Epoch=5/10, Step=20/22, loss=0.544403, acc1=0.8125, acc5=1.0, lr=0.0025, time_each_step=5.03s, eta=0:9:51\n",
      "2023-01-13 17:01:07 [INFO]\t[TRAIN] Epoch=5/10, Step=22/22, loss=0.488188, acc1=0.875, acc5=1.0, lr=0.0025, time_each_step=4.78s, eta=0:9:41\n",
      "2023-01-13 17:01:07 [INFO]\t[TRAIN] Epoch 5 finished, loss=0.526286, acc1=0.81108, acc5=0.991477, lr=0.0025 .\n",
      "2023-01-13 17:01:07 [INFO]\tStart to evaluating(total_samples=132, total_steps=5)...\n"
     ]
    },
    {
     "name": "stderr",
     "output_type": "stream",
     "text": [
      "100%|██████████| 5/5 [00:08<00:00,  1.69s/it]\n"
     ]
    },
    {
     "name": "stdout",
     "output_type": "stream",
     "text": [
      "2023-01-13 17:01:15 [INFO]\t[EVAL] Finished, Epoch=5, acc1=0.856061, acc5=1.0 .\n",
      "2023-01-13 17:01:16 [INFO]\tModel saved in output/mobilenetv3_large_ssld\\best_model.\n",
      "2023-01-13 17:01:16 [INFO]\tModel saved in output/mobilenetv3_large_ssld\\epoch_5.\n",
      "2023-01-13 17:01:16 [INFO]\tCurrent evaluated best model in eval_dataset is epoch_5, acc1=0.8560606060606061\n",
      "2023-01-13 17:01:29 [INFO]\t[TRAIN] Epoch=6/10, Step=2/22, loss=0.368434, acc1=0.90625, acc5=1.0, lr=0.0025, time_each_step=4.92s, eta=0:9:44\n",
      "2023-01-13 17:01:38 [INFO]\t[TRAIN] Epoch=6/10, Step=4/22, loss=0.484973, acc1=0.875, acc5=1.0, lr=0.0025, time_each_step=4.94s, eta=0:9:35\n",
      "2023-01-13 17:01:48 [INFO]\t[TRAIN] Epoch=6/10, Step=6/22, loss=0.42074, acc1=0.875, acc5=1.0, lr=0.0025, time_each_step=4.89s, eta=0:9:24\n",
      "2023-01-13 17:01:57 [INFO]\t[TRAIN] Epoch=6/10, Step=8/22, loss=0.450077, acc1=0.8125, acc5=1.0, lr=0.0025, time_each_step=4.85s, eta=0:9:14\n",
      "2023-01-13 17:02:06 [INFO]\t[TRAIN] Epoch=6/10, Step=10/22, loss=0.450882, acc1=0.875, acc5=1.0, lr=0.0025, time_each_step=4.89s, eta=0:9:5\n",
      "2023-01-13 17:02:15 [INFO]\t[TRAIN] Epoch=6/10, Step=12/22, loss=0.260284, acc1=0.96875, acc5=1.0, lr=0.0025, time_each_step=4.85s, eta=0:8:55\n",
      "2023-01-13 17:02:25 [INFO]\t[TRAIN] Epoch=6/10, Step=14/22, loss=0.505785, acc1=0.84375, acc5=1.0, lr=0.0025, time_each_step=4.88s, eta=0:8:45\n",
      "2023-01-13 17:02:34 [INFO]\t[TRAIN] Epoch=6/10, Step=16/22, loss=0.298746, acc1=0.9375, acc5=1.0, lr=0.0025, time_each_step=4.88s, eta=0:8:35\n",
      "2023-01-13 17:02:43 [INFO]\t[TRAIN] Epoch=6/10, Step=18/22, loss=0.318756, acc1=0.875, acc5=1.0, lr=0.0025, time_each_step=4.86s, eta=0:8:25\n",
      "2023-01-13 17:02:53 [INFO]\t[TRAIN] Epoch=6/10, Step=20/22, loss=0.404691, acc1=0.875, acc5=1.0, lr=0.0025, time_each_step=4.85s, eta=0:8:16\n",
      "2023-01-13 17:03:02 [INFO]\t[TRAIN] Epoch=6/10, Step=22/22, loss=0.467791, acc1=0.8125, acc5=1.0, lr=0.0025, time_each_step=4.64s, eta=0:8:6\n",
      "2023-01-13 17:03:02 [INFO]\t[TRAIN] Epoch 6 finished, loss=0.404375, acc1=0.87358, acc5=0.99858, lr=0.0025 .\n",
      "2023-01-13 17:03:02 [INFO]\tStart to evaluating(total_samples=132, total_steps=5)...\n"
     ]
    },
    {
     "name": "stderr",
     "output_type": "stream",
     "text": [
      "100%|██████████| 5/5 [00:08<00:00,  1.73s/it]\n"
     ]
    },
    {
     "name": "stdout",
     "output_type": "stream",
     "text": [
      "2023-01-13 17:03:10 [INFO]\t[EVAL] Finished, Epoch=6, acc1=0.871212, acc5=1.0 .\n",
      "2023-01-13 17:03:11 [INFO]\tModel saved in output/mobilenetv3_large_ssld\\best_model.\n",
      "2023-01-13 17:03:11 [INFO]\tModel saved in output/mobilenetv3_large_ssld\\epoch_6.\n",
      "2023-01-13 17:03:11 [INFO]\tCurrent evaluated best model in eval_dataset is epoch_6, acc1=0.8712121212121212\n",
      "2023-01-13 17:03:25 [INFO]\t[TRAIN] Epoch=7/10, Step=2/22, loss=0.234312, acc1=0.96875, acc5=1.0, lr=0.00025, time_each_step=4.85s, eta=0:7:31\n",
      "2023-01-13 17:03:34 [INFO]\t[TRAIN] Epoch=7/10, Step=4/22, loss=0.522131, acc1=0.84375, acc5=1.0, lr=0.00025, time_each_step=4.83s, eta=0:7:21\n",
      "2023-01-13 17:03:43 [INFO]\t[TRAIN] Epoch=7/10, Step=6/22, loss=0.461261, acc1=0.875, acc5=0.96875, lr=0.00025, time_each_step=4.86s, eta=0:7:12\n",
      "2023-01-13 17:03:53 [INFO]\t[TRAIN] Epoch=7/10, Step=8/22, loss=0.482399, acc1=0.8125, acc5=1.0, lr=0.00025, time_each_step=4.85s, eta=0:7:2\n",
      "2023-01-13 17:04:02 [INFO]\t[TRAIN] Epoch=7/10, Step=10/22, loss=0.370529, acc1=0.875, acc5=0.96875, lr=0.00025, time_each_step=4.86s, eta=0:6:53\n",
      "2023-01-13 17:04:11 [INFO]\t[TRAIN] Epoch=7/10, Step=12/22, loss=0.228745, acc1=0.875, acc5=1.0, lr=0.00025, time_each_step=4.86s, eta=0:6:43\n",
      "2023-01-13 17:04:20 [INFO]\t[TRAIN] Epoch=7/10, Step=14/22, loss=0.482036, acc1=0.78125, acc5=1.0, lr=0.00025, time_each_step=4.84s, eta=0:6:33\n",
      "2023-01-13 17:04:30 [INFO]\t[TRAIN] Epoch=7/10, Step=16/22, loss=0.43713, acc1=0.875, acc5=1.0, lr=0.00025, time_each_step=4.86s, eta=0:6:24\n",
      "2023-01-13 17:04:39 [INFO]\t[TRAIN] Epoch=7/10, Step=18/22, loss=0.163948, acc1=0.9375, acc5=1.0, lr=0.00025, time_each_step=4.84s, eta=0:6:14\n",
      "2023-01-13 17:04:48 [INFO]\t[TRAIN] Epoch=7/10, Step=20/22, loss=0.351738, acc1=0.84375, acc5=1.0, lr=0.00025, time_each_step=4.87s, eta=0:6:4\n",
      "2023-01-13 17:04:58 [INFO]\t[TRAIN] Epoch=7/10, Step=22/22, loss=0.302121, acc1=0.90625, acc5=0.96875, lr=0.00025, time_each_step=4.68s, eta=0:5:54\n",
      "2023-01-13 17:04:58 [INFO]\t[TRAIN] Epoch 7 finished, loss=0.398375, acc1=0.87358, acc5=0.987216, lr=0.00025 .\n",
      "2023-01-13 17:04:58 [INFO]\tStart to evaluating(total_samples=132, total_steps=5)...\n"
     ]
    },
    {
     "name": "stderr",
     "output_type": "stream",
     "text": [
      "100%|██████████| 5/5 [00:08<00:00,  1.61s/it]\n"
     ]
    },
    {
     "name": "stdout",
     "output_type": "stream",
     "text": [
      "2023-01-13 17:05:06 [INFO]\t[EVAL] Finished, Epoch=7, acc1=0.871212, acc5=1.0 .\n",
      "2023-01-13 17:05:07 [INFO]\tModel saved in output/mobilenetv3_large_ssld\\epoch_7.\n",
      "2023-01-13 17:05:07 [INFO]\tCurrent evaluated best model in eval_dataset is epoch_6, acc1=0.8712121212121212\n",
      "2023-01-13 17:05:21 [INFO]\t[TRAIN] Epoch=8/10, Step=2/22, loss=0.226867, acc1=0.9375, acc5=1.0, lr=0.00025, time_each_step=4.92s, eta=0:5:38\n",
      "2023-01-13 17:05:30 [INFO]\t[TRAIN] Epoch=8/10, Step=4/22, loss=0.327732, acc1=0.875, acc5=0.9375, lr=0.00025, time_each_step=4.94s, eta=0:5:28\n",
      "2023-01-13 17:05:39 [INFO]\t[TRAIN] Epoch=8/10, Step=6/22, loss=0.36708, acc1=0.8125, acc5=1.0, lr=0.00025, time_each_step=4.91s, eta=0:5:18\n",
      "2023-01-13 17:05:49 [INFO]\t[TRAIN] Epoch=8/10, Step=8/22, loss=0.330218, acc1=0.90625, acc5=1.0, lr=0.00025, time_each_step=4.92s, eta=0:5:8\n",
      "2023-01-13 17:05:58 [INFO]\t[TRAIN] Epoch=8/10, Step=10/22, loss=0.436157, acc1=0.84375, acc5=1.0, lr=0.00025, time_each_step=4.9s, eta=0:4:58\n",
      "2023-01-13 17:06:07 [INFO]\t[TRAIN] Epoch=8/10, Step=12/22, loss=0.246138, acc1=0.9375, acc5=1.0, lr=0.00025, time_each_step=4.92s, eta=0:4:48\n",
      "2023-01-13 17:06:17 [INFO]\t[TRAIN] Epoch=8/10, Step=14/22, loss=0.703714, acc1=0.8125, acc5=0.96875, lr=0.00025, time_each_step=4.92s, eta=0:4:39\n",
      "2023-01-13 17:06:26 [INFO]\t[TRAIN] Epoch=8/10, Step=16/22, loss=0.373935, acc1=0.84375, acc5=1.0, lr=0.00025, time_each_step=4.93s, eta=0:4:29\n",
      "2023-01-13 17:06:35 [INFO]\t[TRAIN] Epoch=8/10, Step=18/22, loss=0.192453, acc1=0.9375, acc5=1.0, lr=0.00025, time_each_step=4.93s, eta=0:4:19\n",
      "2023-01-13 17:06:44 [INFO]\t[TRAIN] Epoch=8/10, Step=20/22, loss=0.350844, acc1=0.90625, acc5=0.96875, lr=0.00025, time_each_step=4.88s, eta=0:4:9\n",
      "2023-01-13 17:06:54 [INFO]\t[TRAIN] Epoch=8/10, Step=22/22, loss=0.326499, acc1=0.9375, acc5=0.96875, lr=0.00025, time_each_step=4.66s, eta=0:3:59\n",
      "2023-01-13 17:06:54 [INFO]\t[TRAIN] Epoch 8 finished, loss=0.364079, acc1=0.870739, acc5=0.988636, lr=0.00025 .\n",
      "2023-01-13 17:06:54 [INFO]\tStart to evaluating(total_samples=132, total_steps=5)...\n"
     ]
    },
    {
     "name": "stderr",
     "output_type": "stream",
     "text": [
      "100%|██████████| 5/5 [00:07<00:00,  1.59s/it]\n"
     ]
    },
    {
     "name": "stdout",
     "output_type": "stream",
     "text": [
      "2023-01-13 17:07:02 [INFO]\t[EVAL] Finished, Epoch=8, acc1=0.878788, acc5=1.0 .\n",
      "2023-01-13 17:07:02 [INFO]\tModel saved in output/mobilenetv3_large_ssld\\best_model.\n",
      "2023-01-13 17:07:03 [INFO]\tModel saved in output/mobilenetv3_large_ssld\\epoch_8.\n",
      "2023-01-13 17:07:03 [INFO]\tCurrent evaluated best model in eval_dataset is epoch_8, acc1=0.8787878787878788\n",
      "2023-01-13 17:07:16 [INFO]\t[TRAIN] Epoch=9/10, Step=2/22, loss=0.358533, acc1=0.90625, acc5=1.0, lr=2.5e-05, time_each_step=4.84s, eta=0:3:41\n",
      "2023-01-13 17:07:26 [INFO]\t[TRAIN] Epoch=9/10, Step=4/22, loss=0.581773, acc1=0.8125, acc5=1.0, lr=2.5e-05, time_each_step=4.88s, eta=0:3:32\n",
      "2023-01-13 17:07:35 [INFO]\t[TRAIN] Epoch=9/10, Step=6/22, loss=0.447583, acc1=0.875, acc5=1.0, lr=2.5e-05, time_each_step=4.86s, eta=0:3:22\n",
      "2023-01-13 17:07:44 [INFO]\t[TRAIN] Epoch=9/10, Step=8/22, loss=0.394063, acc1=0.84375, acc5=1.0, lr=2.5e-05, time_each_step=4.88s, eta=0:3:13\n",
      "2023-01-13 17:07:54 [INFO]\t[TRAIN] Epoch=9/10, Step=10/22, loss=0.513263, acc1=0.8125, acc5=0.96875, lr=2.5e-05, time_each_step=4.91s, eta=0:3:3\n",
      "2023-01-13 17:08:04 [INFO]\t[TRAIN] Epoch=9/10, Step=12/22, loss=0.367424, acc1=0.875, acc5=1.0, lr=2.5e-05, time_each_step=4.91s, eta=0:2:54\n",
      "2023-01-13 17:08:13 [INFO]\t[TRAIN] Epoch=9/10, Step=14/22, loss=0.451452, acc1=0.8125, acc5=1.0, lr=2.5e-05, time_each_step=4.93s, eta=0:2:44\n",
      "2023-01-13 17:08:22 [INFO]\t[TRAIN] Epoch=9/10, Step=16/22, loss=0.298969, acc1=0.84375, acc5=1.0, lr=2.5e-05, time_each_step=4.9s, eta=0:2:34\n",
      "2023-01-13 17:08:32 [INFO]\t[TRAIN] Epoch=9/10, Step=18/22, loss=0.239431, acc1=0.9375, acc5=1.0, lr=2.5e-05, time_each_step=4.93s, eta=0:2:24\n",
      "2023-01-13 17:08:41 [INFO]\t[TRAIN] Epoch=9/10, Step=20/22, loss=0.529532, acc1=0.8125, acc5=0.96875, lr=2.5e-05, time_each_step=4.92s, eta=0:2:14\n",
      "2023-01-13 17:08:50 [INFO]\t[TRAIN] Epoch=9/10, Step=22/22, loss=0.236331, acc1=0.90625, acc5=1.0, lr=2.5e-05, time_each_step=4.69s, eta=0:2:4\n",
      "2023-01-13 17:08:50 [INFO]\t[TRAIN] Epoch 9 finished, loss=0.360526, acc1=0.87642, acc5=0.997159, lr=2.5e-05 .\n",
      "2023-01-13 17:08:50 [INFO]\tStart to evaluating(total_samples=132, total_steps=5)...\n"
     ]
    },
    {
     "name": "stderr",
     "output_type": "stream",
     "text": [
      "100%|██████████| 5/5 [00:08<00:00,  1.69s/it]\n"
     ]
    },
    {
     "name": "stdout",
     "output_type": "stream",
     "text": [
      "2023-01-13 17:08:59 [INFO]\t[EVAL] Finished, Epoch=9, acc1=0.863636, acc5=1.0 .\n",
      "2023-01-13 17:08:59 [INFO]\tModel saved in output/mobilenetv3_large_ssld\\epoch_9.\n",
      "2023-01-13 17:08:59 [INFO]\tCurrent evaluated best model in eval_dataset is epoch_8, acc1=0.8787878787878788\n",
      "2023-01-13 17:09:12 [INFO]\t[TRAIN] Epoch=10/10, Step=2/22, loss=0.53302, acc1=0.75, acc5=1.0, lr=2.5e-05, time_each_step=4.86s, eta=0:1:46\n",
      "2023-01-13 17:09:21 [INFO]\t[TRAIN] Epoch=10/10, Step=4/22, loss=0.422941, acc1=0.84375, acc5=1.0, lr=2.5e-05, time_each_step=4.89s, eta=0:1:36\n",
      "2023-01-13 17:09:31 [INFO]\t[TRAIN] Epoch=10/10, Step=6/22, loss=0.344156, acc1=0.90625, acc5=1.0, lr=2.5e-05, time_each_step=4.9s, eta=0:1:27\n",
      "2023-01-13 17:09:40 [INFO]\t[TRAIN] Epoch=10/10, Step=8/22, loss=0.740964, acc1=0.71875, acc5=1.0, lr=2.5e-05, time_each_step=4.84s, eta=0:1:16\n",
      "2023-01-13 17:09:49 [INFO]\t[TRAIN] Epoch=10/10, Step=10/22, loss=0.481297, acc1=0.875, acc5=1.0, lr=2.5e-05, time_each_step=4.85s, eta=0:1:6\n",
      "2023-01-13 17:09:58 [INFO]\t[TRAIN] Epoch=10/10, Step=12/22, loss=0.514864, acc1=0.8125, acc5=1.0, lr=2.5e-05, time_each_step=4.81s, eta=0:0:56\n",
      "2023-01-13 17:10:08 [INFO]\t[TRAIN] Epoch=10/10, Step=14/22, loss=0.365734, acc1=0.875, acc5=1.0, lr=2.5e-05, time_each_step=4.84s, eta=0:0:47\n",
      "2023-01-13 17:10:17 [INFO]\t[TRAIN] Epoch=10/10, Step=16/22, loss=0.275681, acc1=0.9375, acc5=1.0, lr=2.5e-05, time_each_step=4.84s, eta=0:0:37\n",
      "2023-01-13 17:10:27 [INFO]\t[TRAIN] Epoch=10/10, Step=18/22, loss=0.595746, acc1=0.78125, acc5=1.0, lr=2.5e-05, time_each_step=4.83s, eta=0:0:28\n",
      "2023-01-13 17:10:36 [INFO]\t[TRAIN] Epoch=10/10, Step=20/22, loss=0.429308, acc1=0.8125, acc5=1.0, lr=2.5e-05, time_each_step=4.86s, eta=0:0:18\n",
      "2023-01-13 17:10:45 [INFO]\t[TRAIN] Epoch=10/10, Step=22/22, loss=0.520735, acc1=0.8125, acc5=1.0, lr=2.5e-05, time_each_step=4.64s, eta=0:0:8\n",
      "2023-01-13 17:10:45 [INFO]\t[TRAIN] Epoch 10 finished, loss=0.417098, acc1=0.852273, acc5=0.99858, lr=2.5e-05 .\n",
      "2023-01-13 17:10:45 [INFO]\tStart to evaluating(total_samples=132, total_steps=5)...\n"
     ]
    },
    {
     "name": "stderr",
     "output_type": "stream",
     "text": [
      "100%|██████████| 5/5 [00:08<00:00,  1.72s/it]\n"
     ]
    },
    {
     "name": "stdout",
     "output_type": "stream",
     "text": [
      "2023-01-13 17:10:54 [INFO]\t[EVAL] Finished, Epoch=10, acc1=0.871212, acc5=1.0 .\n",
      "2023-01-13 17:10:54 [INFO]\tModel saved in output/mobilenetv3_large_ssld\\epoch_10.\n",
      "2023-01-13 17:10:54 [INFO]\tCurrent evaluated best model in eval_dataset is epoch_8, acc1=0.8787878787878788\n"
     ]
    }
   ],
   "source": [
    "model.train(\n",
    "    num_epochs=10,\n",
    "    train_dataset=train_dataset,\n",
    "    train_batch_size=32,\n",
    "    eval_dataset=eval_dataset,\n",
    "    lr_decay_epochs=[4, 6, 8],\n",
    "    save_interval_epochs=1,\n",
    "    learning_rate=0.025,\n",
    "    save_dir='output/mobilenetv3_large_ssld'\n",
    ")"
   ]
  },
  {
   "cell_type": "code",
   "execution_count": 8,
   "metadata": {},
   "outputs": [
    {
     "data": {
      "text/plain": [
       "[{'category_id': 6, 'category': 'mascara', 'score': 0.89641726}]"
      ]
     },
     "execution_count": 8,
     "metadata": {},
     "output_type": "execute_result"
    }
   ],
   "source": [
    "\"\"\"模型预测\"\"\"\n",
    "\n",
    "result = model.predict('makeup/mascara/27.jpeg', topk=1)\n",
    "\n",
    "result"
   ]
  }
 ],
 "metadata": {
  "kernelspec": {
   "display_name": "Python 3",
   "language": "python",
   "name": "python3"
  },
  "language_info": {
   "codemirror_mode": {
    "name": "ipython",
    "version": 3
   },
   "file_extension": ".py",
   "mimetype": "text/x-python",
   "name": "python",
   "nbconvert_exporter": "python",
   "pygments_lexer": "ipython3",
   "version": "3.8.5"
  }
 },
 "nbformat": 4,
 "nbformat_minor": 5
}
